{
 "cells": [
  {
   "cell_type": "code",
   "execution_count": 1,
   "metadata": {},
   "outputs": [],
   "source": [
    "#IMPORT DEPENDENCY\n",
    "import numpy as np\n",
    "import pandas as pd\n",
    "import matplotlib.pyplot as plt\n",
    "from pathlib import Path\n",
    "from collections import Counter\n",
    "\n",
    "import warnings\n",
    "warnings.filterwarnings('ignore')\n",
    "\n",
    "\n",
    "from sklearn import tree\n",
    "from sklearn.metrics import accuracy_score, classification_report\n",
    "from sklearn.ensemble import RandomForestClassifier\n",
    "from sklearn.preprocessing import StandardScaler\n",
    "from sklearn import preprocessing\n",
    "from sklearn.metrics import balanced_accuracy_score\n",
    "from sklearn.metrics import confusion_matrix\n",
    "from imblearn.metrics import classification_report_imbalanced"
   ]
  },
  {
   "cell_type": "code",
   "execution_count": 2,
   "metadata": {},
   "outputs": [
    {
     "data": {
      "text/html": [
       "<div>\n",
       "<style scoped>\n",
       "    .dataframe tbody tr th:only-of-type {\n",
       "        vertical-align: middle;\n",
       "    }\n",
       "\n",
       "    .dataframe tbody tr th {\n",
       "        vertical-align: top;\n",
       "    }\n",
       "\n",
       "    .dataframe thead th {\n",
       "        text-align: right;\n",
       "    }\n",
       "</style>\n",
       "<table border=\"1\" class=\"dataframe\">\n",
       "  <thead>\n",
       "    <tr style=\"text-align: right;\">\n",
       "      <th></th>\n",
       "      <th>team_name</th>\n",
       "      <th>team_code</th>\n",
       "      <th>common_name</th>\n",
       "      <th>season</th>\n",
       "      <th>country</th>\n",
       "      <th>country_code</th>\n",
       "      <th>matches_played</th>\n",
       "      <th>matches_played_home</th>\n",
       "      <th>matches_played_away</th>\n",
       "      <th>suspended_matches</th>\n",
       "      <th>...</th>\n",
       "      <th>goals_conceded_min_51_to_60</th>\n",
       "      <th>goals_conceded_min_61_to_70</th>\n",
       "      <th>goals_conceded_min_71_to_80</th>\n",
       "      <th>goals_conceded_min_81_to_90</th>\n",
       "      <th>draw_percentage_overall</th>\n",
       "      <th>draw_percentage_home</th>\n",
       "      <th>draw_percentage_away</th>\n",
       "      <th>loss_percentage_ovearll</th>\n",
       "      <th>loss_percentage_home</th>\n",
       "      <th>loss_percentage_away</th>\n",
       "    </tr>\n",
       "  </thead>\n",
       "  <tbody>\n",
       "    <tr>\n",
       "      <th>0</th>\n",
       "      <td>Arsenal FC</td>\n",
       "      <td>1</td>\n",
       "      <td>Arsenal</td>\n",
       "      <td>2020</td>\n",
       "      <td>England</td>\n",
       "      <td>1</td>\n",
       "      <td>13</td>\n",
       "      <td>7</td>\n",
       "      <td>6</td>\n",
       "      <td>0</td>\n",
       "      <td>...</td>\n",
       "      <td>0</td>\n",
       "      <td>0</td>\n",
       "      <td>4</td>\n",
       "      <td>2</td>\n",
       "      <td>0.15</td>\n",
       "      <td>0.14</td>\n",
       "      <td>0.17</td>\n",
       "      <td>0.54</td>\n",
       "      <td>0.57</td>\n",
       "      <td>0.50</td>\n",
       "    </tr>\n",
       "    <tr>\n",
       "      <th>1</th>\n",
       "      <td>Tottenham Hotspur FC</td>\n",
       "      <td>2</td>\n",
       "      <td>Tottenham Hotspur</td>\n",
       "      <td>2020</td>\n",
       "      <td>England</td>\n",
       "      <td>1</td>\n",
       "      <td>13</td>\n",
       "      <td>6</td>\n",
       "      <td>7</td>\n",
       "      <td>0</td>\n",
       "      <td>...</td>\n",
       "      <td>2</td>\n",
       "      <td>0</td>\n",
       "      <td>0</td>\n",
       "      <td>7</td>\n",
       "      <td>0.31</td>\n",
       "      <td>0.33</td>\n",
       "      <td>0.29</td>\n",
       "      <td>0.15</td>\n",
       "      <td>0.17</td>\n",
       "      <td>0.14</td>\n",
       "    </tr>\n",
       "    <tr>\n",
       "      <th>2</th>\n",
       "      <td>Manchester City FC</td>\n",
       "      <td>3</td>\n",
       "      <td>Manchester City</td>\n",
       "      <td>2020</td>\n",
       "      <td>England</td>\n",
       "      <td>1</td>\n",
       "      <td>12</td>\n",
       "      <td>6</td>\n",
       "      <td>6</td>\n",
       "      <td>1</td>\n",
       "      <td>...</td>\n",
       "      <td>3</td>\n",
       "      <td>1</td>\n",
       "      <td>2</td>\n",
       "      <td>1</td>\n",
       "      <td>0.42</td>\n",
       "      <td>0.33</td>\n",
       "      <td>0.50</td>\n",
       "      <td>0.17</td>\n",
       "      <td>0.17</td>\n",
       "      <td>0.17</td>\n",
       "    </tr>\n",
       "    <tr>\n",
       "      <th>3</th>\n",
       "      <td>Leicester City FC</td>\n",
       "      <td>4</td>\n",
       "      <td>Leicester City</td>\n",
       "      <td>2020</td>\n",
       "      <td>England</td>\n",
       "      <td>1</td>\n",
       "      <td>13</td>\n",
       "      <td>7</td>\n",
       "      <td>6</td>\n",
       "      <td>0</td>\n",
       "      <td>...</td>\n",
       "      <td>0</td>\n",
       "      <td>0</td>\n",
       "      <td>2</td>\n",
       "      <td>4</td>\n",
       "      <td>0.00</td>\n",
       "      <td>0.00</td>\n",
       "      <td>0.00</td>\n",
       "      <td>0.38</td>\n",
       "      <td>0.57</td>\n",
       "      <td>0.17</td>\n",
       "    </tr>\n",
       "    <tr>\n",
       "      <th>4</th>\n",
       "      <td>West Bromwich Albion FC</td>\n",
       "      <td>5</td>\n",
       "      <td>West Bromwich Albion</td>\n",
       "      <td>2020</td>\n",
       "      <td>England</td>\n",
       "      <td>1</td>\n",
       "      <td>13</td>\n",
       "      <td>6</td>\n",
       "      <td>7</td>\n",
       "      <td>0</td>\n",
       "      <td>...</td>\n",
       "      <td>6</td>\n",
       "      <td>5</td>\n",
       "      <td>1</td>\n",
       "      <td>5</td>\n",
       "      <td>0.31</td>\n",
       "      <td>0.33</td>\n",
       "      <td>0.29</td>\n",
       "      <td>0.62</td>\n",
       "      <td>0.50</td>\n",
       "      <td>0.71</td>\n",
       "    </tr>\n",
       "    <tr>\n",
       "      <th>5</th>\n",
       "      <td>Crystal Palace FC</td>\n",
       "      <td>6</td>\n",
       "      <td>Crystal Palace</td>\n",
       "      <td>2020</td>\n",
       "      <td>England</td>\n",
       "      <td>1</td>\n",
       "      <td>13</td>\n",
       "      <td>6</td>\n",
       "      <td>7</td>\n",
       "      <td>0</td>\n",
       "      <td>...</td>\n",
       "      <td>1</td>\n",
       "      <td>1</td>\n",
       "      <td>2</td>\n",
       "      <td>5</td>\n",
       "      <td>0.23</td>\n",
       "      <td>0.33</td>\n",
       "      <td>0.14</td>\n",
       "      <td>0.38</td>\n",
       "      <td>0.33</td>\n",
       "      <td>0.43</td>\n",
       "    </tr>\n",
       "    <tr>\n",
       "      <th>6</th>\n",
       "      <td>Everton FC</td>\n",
       "      <td>7</td>\n",
       "      <td>Everton</td>\n",
       "      <td>2020</td>\n",
       "      <td>England</td>\n",
       "      <td>1</td>\n",
       "      <td>13</td>\n",
       "      <td>6</td>\n",
       "      <td>7</td>\n",
       "      <td>0</td>\n",
       "      <td>...</td>\n",
       "      <td>1</td>\n",
       "      <td>1</td>\n",
       "      <td>2</td>\n",
       "      <td>3</td>\n",
       "      <td>0.15</td>\n",
       "      <td>0.17</td>\n",
       "      <td>0.14</td>\n",
       "      <td>0.31</td>\n",
       "      <td>0.33</td>\n",
       "      <td>0.29</td>\n",
       "    </tr>\n",
       "    <tr>\n",
       "      <th>7</th>\n",
       "      <td>Burnley FC</td>\n",
       "      <td>8</td>\n",
       "      <td>Burnley</td>\n",
       "      <td>2020</td>\n",
       "      <td>England</td>\n",
       "      <td>1</td>\n",
       "      <td>12</td>\n",
       "      <td>5</td>\n",
       "      <td>7</td>\n",
       "      <td>1</td>\n",
       "      <td>...</td>\n",
       "      <td>0</td>\n",
       "      <td>6</td>\n",
       "      <td>3</td>\n",
       "      <td>0</td>\n",
       "      <td>0.33</td>\n",
       "      <td>0.20</td>\n",
       "      <td>0.43</td>\n",
       "      <td>0.50</td>\n",
       "      <td>0.60</td>\n",
       "      <td>0.43</td>\n",
       "    </tr>\n",
       "    <tr>\n",
       "      <th>8</th>\n",
       "      <td>Southampton FC</td>\n",
       "      <td>9</td>\n",
       "      <td>Southampton</td>\n",
       "      <td>2020</td>\n",
       "      <td>England</td>\n",
       "      <td>1</td>\n",
       "      <td>13</td>\n",
       "      <td>6</td>\n",
       "      <td>7</td>\n",
       "      <td>0</td>\n",
       "      <td>...</td>\n",
       "      <td>3</td>\n",
       "      <td>2</td>\n",
       "      <td>3</td>\n",
       "      <td>4</td>\n",
       "      <td>0.23</td>\n",
       "      <td>0.00</td>\n",
       "      <td>0.43</td>\n",
       "      <td>0.23</td>\n",
       "      <td>0.33</td>\n",
       "      <td>0.14</td>\n",
       "    </tr>\n",
       "    <tr>\n",
       "      <th>9</th>\n",
       "      <td>Manchester United FC</td>\n",
       "      <td>10</td>\n",
       "      <td>Manchester United</td>\n",
       "      <td>2020</td>\n",
       "      <td>England</td>\n",
       "      <td>1</td>\n",
       "      <td>12</td>\n",
       "      <td>6</td>\n",
       "      <td>6</td>\n",
       "      <td>1</td>\n",
       "      <td>...</td>\n",
       "      <td>1</td>\n",
       "      <td>1</td>\n",
       "      <td>2</td>\n",
       "      <td>3</td>\n",
       "      <td>0.17</td>\n",
       "      <td>0.33</td>\n",
       "      <td>0.00</td>\n",
       "      <td>0.25</td>\n",
       "      <td>0.50</td>\n",
       "      <td>0.00</td>\n",
       "    </tr>\n",
       "  </tbody>\n",
       "</table>\n",
       "<p>10 rows × 196 columns</p>\n",
       "</div>"
      ],
      "text/plain": [
       "                 team_name  team_code           common_name  season  country  \\\n",
       "0               Arsenal FC          1               Arsenal    2020  England   \n",
       "1     Tottenham Hotspur FC          2     Tottenham Hotspur    2020  England   \n",
       "2       Manchester City FC          3       Manchester City    2020  England   \n",
       "3        Leicester City FC          4        Leicester City    2020  England   \n",
       "4  West Bromwich Albion FC          5  West Bromwich Albion    2020  England   \n",
       "5        Crystal Palace FC          6        Crystal Palace    2020  England   \n",
       "6               Everton FC          7               Everton    2020  England   \n",
       "7               Burnley FC          8               Burnley    2020  England   \n",
       "8           Southampton FC          9           Southampton    2020  England   \n",
       "9     Manchester United FC         10     Manchester United    2020  England   \n",
       "\n",
       "   country_code  matches_played  matches_played_home  matches_played_away  \\\n",
       "0             1              13                    7                    6   \n",
       "1             1              13                    6                    7   \n",
       "2             1              12                    6                    6   \n",
       "3             1              13                    7                    6   \n",
       "4             1              13                    6                    7   \n",
       "5             1              13                    6                    7   \n",
       "6             1              13                    6                    7   \n",
       "7             1              12                    5                    7   \n",
       "8             1              13                    6                    7   \n",
       "9             1              12                    6                    6   \n",
       "\n",
       "   suspended_matches  ...  goals_conceded_min_51_to_60  \\\n",
       "0                  0  ...                            0   \n",
       "1                  0  ...                            2   \n",
       "2                  1  ...                            3   \n",
       "3                  0  ...                            0   \n",
       "4                  0  ...                            6   \n",
       "5                  0  ...                            1   \n",
       "6                  0  ...                            1   \n",
       "7                  1  ...                            0   \n",
       "8                  0  ...                            3   \n",
       "9                  1  ...                            1   \n",
       "\n",
       "   goals_conceded_min_61_to_70  goals_conceded_min_71_to_80  \\\n",
       "0                            0                            4   \n",
       "1                            0                            0   \n",
       "2                            1                            2   \n",
       "3                            0                            2   \n",
       "4                            5                            1   \n",
       "5                            1                            2   \n",
       "6                            1                            2   \n",
       "7                            6                            3   \n",
       "8                            2                            3   \n",
       "9                            1                            2   \n",
       "\n",
       "   goals_conceded_min_81_to_90  draw_percentage_overall  draw_percentage_home  \\\n",
       "0                            2                     0.15                  0.14   \n",
       "1                            7                     0.31                  0.33   \n",
       "2                            1                     0.42                  0.33   \n",
       "3                            4                     0.00                  0.00   \n",
       "4                            5                     0.31                  0.33   \n",
       "5                            5                     0.23                  0.33   \n",
       "6                            3                     0.15                  0.17   \n",
       "7                            0                     0.33                  0.20   \n",
       "8                            4                     0.23                  0.00   \n",
       "9                            3                     0.17                  0.33   \n",
       "\n",
       "   draw_percentage_away  loss_percentage_ovearll  loss_percentage_home  \\\n",
       "0                  0.17                     0.54                  0.57   \n",
       "1                  0.29                     0.15                  0.17   \n",
       "2                  0.50                     0.17                  0.17   \n",
       "3                  0.00                     0.38                  0.57   \n",
       "4                  0.29                     0.62                  0.50   \n",
       "5                  0.14                     0.38                  0.33   \n",
       "6                  0.14                     0.31                  0.33   \n",
       "7                  0.43                     0.50                  0.60   \n",
       "8                  0.43                     0.23                  0.33   \n",
       "9                  0.00                     0.25                  0.50   \n",
       "\n",
       "   loss_percentage_away  \n",
       "0                  0.50  \n",
       "1                  0.14  \n",
       "2                  0.17  \n",
       "3                  0.17  \n",
       "4                  0.71  \n",
       "5                  0.43  \n",
       "6                  0.29  \n",
       "7                  0.43  \n",
       "8                  0.14  \n",
       "9                  0.00  \n",
       "\n",
       "[10 rows x 196 columns]"
      ]
     },
     "execution_count": 2,
     "metadata": {},
     "output_type": "execute_result"
    }
   ],
   "source": [
    "#LOAD SOCCER DATA INTO A DATAFRAME\n",
    "soccer_data_load = \"C:/Users/davec/Desktop/Class/20_Final_Project/soccer_data_V2.csv\"\n",
    "soccer_data_df = pd.read_csv(soccer_data_load, encoding = 'unicode_escape')\n",
    "soccer_data_df.head(10)"
   ]
  },
  {
   "cell_type": "code",
   "execution_count": 3,
   "metadata": {},
   "outputs": [
    {
     "data": {
      "text/html": [
       "<div>\n",
       "<style scoped>\n",
       "    .dataframe tbody tr th:only-of-type {\n",
       "        vertical-align: middle;\n",
       "    }\n",
       "\n",
       "    .dataframe tbody tr th {\n",
       "        vertical-align: top;\n",
       "    }\n",
       "\n",
       "    .dataframe thead th {\n",
       "        text-align: right;\n",
       "    }\n",
       "</style>\n",
       "<table border=\"1\" class=\"dataframe\">\n",
       "  <thead>\n",
       "    <tr style=\"text-align: right;\">\n",
       "      <th></th>\n",
       "      <th>team_name</th>\n",
       "      <th>team_code</th>\n",
       "      <th>common_name</th>\n",
       "      <th>season</th>\n",
       "      <th>country</th>\n",
       "      <th>country_code</th>\n",
       "      <th>matches_played</th>\n",
       "      <th>matches_played_home</th>\n",
       "      <th>matches_played_away</th>\n",
       "      <th>suspended_matches</th>\n",
       "      <th>...</th>\n",
       "      <th>goals_conceded_min_51_to_60</th>\n",
       "      <th>goals_conceded_min_61_to_70</th>\n",
       "      <th>goals_conceded_min_71_to_80</th>\n",
       "      <th>goals_conceded_min_81_to_90</th>\n",
       "      <th>draw_percentage_overall</th>\n",
       "      <th>draw_percentage_home</th>\n",
       "      <th>draw_percentage_away</th>\n",
       "      <th>loss_percentage_ovearll</th>\n",
       "      <th>loss_percentage_home</th>\n",
       "      <th>loss_percentage_away</th>\n",
       "    </tr>\n",
       "  </thead>\n",
       "  <tbody>\n",
       "    <tr>\n",
       "      <th>0</th>\n",
       "      <td>Arsenal FC</td>\n",
       "      <td>1</td>\n",
       "      <td>Arsenal</td>\n",
       "      <td>2020</td>\n",
       "      <td>England</td>\n",
       "      <td>1</td>\n",
       "      <td>13</td>\n",
       "      <td>7</td>\n",
       "      <td>6</td>\n",
       "      <td>0</td>\n",
       "      <td>...</td>\n",
       "      <td>0</td>\n",
       "      <td>0</td>\n",
       "      <td>4</td>\n",
       "      <td>2</td>\n",
       "      <td>0.15</td>\n",
       "      <td>0.14</td>\n",
       "      <td>0.17</td>\n",
       "      <td>0.54</td>\n",
       "      <td>0.57</td>\n",
       "      <td>0.50</td>\n",
       "    </tr>\n",
       "    <tr>\n",
       "      <th>1</th>\n",
       "      <td>Tottenham Hotspur FC</td>\n",
       "      <td>2</td>\n",
       "      <td>Tottenham Hotspur</td>\n",
       "      <td>2020</td>\n",
       "      <td>England</td>\n",
       "      <td>1</td>\n",
       "      <td>13</td>\n",
       "      <td>6</td>\n",
       "      <td>7</td>\n",
       "      <td>0</td>\n",
       "      <td>...</td>\n",
       "      <td>2</td>\n",
       "      <td>0</td>\n",
       "      <td>0</td>\n",
       "      <td>7</td>\n",
       "      <td>0.31</td>\n",
       "      <td>0.33</td>\n",
       "      <td>0.29</td>\n",
       "      <td>0.15</td>\n",
       "      <td>0.17</td>\n",
       "      <td>0.14</td>\n",
       "    </tr>\n",
       "    <tr>\n",
       "      <th>2</th>\n",
       "      <td>Manchester City FC</td>\n",
       "      <td>3</td>\n",
       "      <td>Manchester City</td>\n",
       "      <td>2020</td>\n",
       "      <td>England</td>\n",
       "      <td>1</td>\n",
       "      <td>12</td>\n",
       "      <td>6</td>\n",
       "      <td>6</td>\n",
       "      <td>1</td>\n",
       "      <td>...</td>\n",
       "      <td>3</td>\n",
       "      <td>1</td>\n",
       "      <td>2</td>\n",
       "      <td>1</td>\n",
       "      <td>0.42</td>\n",
       "      <td>0.33</td>\n",
       "      <td>0.50</td>\n",
       "      <td>0.17</td>\n",
       "      <td>0.17</td>\n",
       "      <td>0.17</td>\n",
       "    </tr>\n",
       "    <tr>\n",
       "      <th>3</th>\n",
       "      <td>Leicester City FC</td>\n",
       "      <td>4</td>\n",
       "      <td>Leicester City</td>\n",
       "      <td>2020</td>\n",
       "      <td>England</td>\n",
       "      <td>1</td>\n",
       "      <td>13</td>\n",
       "      <td>7</td>\n",
       "      <td>6</td>\n",
       "      <td>0</td>\n",
       "      <td>...</td>\n",
       "      <td>0</td>\n",
       "      <td>0</td>\n",
       "      <td>2</td>\n",
       "      <td>4</td>\n",
       "      <td>0.00</td>\n",
       "      <td>0.00</td>\n",
       "      <td>0.00</td>\n",
       "      <td>0.38</td>\n",
       "      <td>0.57</td>\n",
       "      <td>0.17</td>\n",
       "    </tr>\n",
       "    <tr>\n",
       "      <th>4</th>\n",
       "      <td>West Bromwich Albion FC</td>\n",
       "      <td>5</td>\n",
       "      <td>West Bromwich Albion</td>\n",
       "      <td>2020</td>\n",
       "      <td>England</td>\n",
       "      <td>1</td>\n",
       "      <td>13</td>\n",
       "      <td>6</td>\n",
       "      <td>7</td>\n",
       "      <td>0</td>\n",
       "      <td>...</td>\n",
       "      <td>6</td>\n",
       "      <td>5</td>\n",
       "      <td>1</td>\n",
       "      <td>5</td>\n",
       "      <td>0.31</td>\n",
       "      <td>0.33</td>\n",
       "      <td>0.29</td>\n",
       "      <td>0.62</td>\n",
       "      <td>0.50</td>\n",
       "      <td>0.71</td>\n",
       "    </tr>\n",
       "    <tr>\n",
       "      <th>...</th>\n",
       "      <td>...</td>\n",
       "      <td>...</td>\n",
       "      <td>...</td>\n",
       "      <td>...</td>\n",
       "      <td>...</td>\n",
       "      <td>...</td>\n",
       "      <td>...</td>\n",
       "      <td>...</td>\n",
       "      <td>...</td>\n",
       "      <td>...</td>\n",
       "      <td>...</td>\n",
       "      <td>...</td>\n",
       "      <td>...</td>\n",
       "      <td>...</td>\n",
       "      <td>...</td>\n",
       "      <td>...</td>\n",
       "      <td>...</td>\n",
       "      <td>...</td>\n",
       "      <td>...</td>\n",
       "      <td>...</td>\n",
       "      <td>...</td>\n",
       "    </tr>\n",
       "    <tr>\n",
       "      <th>1053</th>\n",
       "      <td>Getafe Club de F?§tbol</td>\n",
       "      <td>1054</td>\n",
       "      <td>Getafe CF</td>\n",
       "      <td>2020</td>\n",
       "      <td>Spain</td>\n",
       "      <td>5</td>\n",
       "      <td>12</td>\n",
       "      <td>7</td>\n",
       "      <td>5</td>\n",
       "      <td>1</td>\n",
       "      <td>...</td>\n",
       "      <td>1</td>\n",
       "      <td>1</td>\n",
       "      <td>1</td>\n",
       "      <td>3</td>\n",
       "      <td>0.33</td>\n",
       "      <td>0.14</td>\n",
       "      <td>0.60</td>\n",
       "      <td>0.42</td>\n",
       "      <td>0.43</td>\n",
       "      <td>0.40</td>\n",
       "    </tr>\n",
       "    <tr>\n",
       "      <th>1054</th>\n",
       "      <td>Elche CF</td>\n",
       "      <td>1055</td>\n",
       "      <td>Elche CF</td>\n",
       "      <td>2020</td>\n",
       "      <td>Spain</td>\n",
       "      <td>5</td>\n",
       "      <td>12</td>\n",
       "      <td>6</td>\n",
       "      <td>6</td>\n",
       "      <td>2</td>\n",
       "      <td>...</td>\n",
       "      <td>4</td>\n",
       "      <td>0</td>\n",
       "      <td>3</td>\n",
       "      <td>1</td>\n",
       "      <td>0.42</td>\n",
       "      <td>0.50</td>\n",
       "      <td>0.33</td>\n",
       "      <td>0.33</td>\n",
       "      <td>0.33</td>\n",
       "      <td>0.33</td>\n",
       "    </tr>\n",
       "    <tr>\n",
       "      <th>1055</th>\n",
       "      <td>Real Valladolid Club de F?§tbol</td>\n",
       "      <td>1056</td>\n",
       "      <td>Real Valladolid</td>\n",
       "      <td>2020</td>\n",
       "      <td>Spain</td>\n",
       "      <td>5</td>\n",
       "      <td>13</td>\n",
       "      <td>7</td>\n",
       "      <td>6</td>\n",
       "      <td>0</td>\n",
       "      <td>...</td>\n",
       "      <td>5</td>\n",
       "      <td>2</td>\n",
       "      <td>1</td>\n",
       "      <td>4</td>\n",
       "      <td>0.31</td>\n",
       "      <td>0.43</td>\n",
       "      <td>0.17</td>\n",
       "      <td>0.46</td>\n",
       "      <td>0.29</td>\n",
       "      <td>0.67</td>\n",
       "    </tr>\n",
       "    <tr>\n",
       "      <th>1056</th>\n",
       "      <td>SD Huesca</td>\n",
       "      <td>1057</td>\n",
       "      <td>SD Huesca</td>\n",
       "      <td>2020</td>\n",
       "      <td>Spain</td>\n",
       "      <td>5</td>\n",
       "      <td>14</td>\n",
       "      <td>6</td>\n",
       "      <td>8</td>\n",
       "      <td>0</td>\n",
       "      <td>...</td>\n",
       "      <td>3</td>\n",
       "      <td>3</td>\n",
       "      <td>1</td>\n",
       "      <td>7</td>\n",
       "      <td>0.57</td>\n",
       "      <td>0.50</td>\n",
       "      <td>0.63</td>\n",
       "      <td>0.36</td>\n",
       "      <td>0.33</td>\n",
       "      <td>0.38</td>\n",
       "    </tr>\n",
       "    <tr>\n",
       "      <th>1057</th>\n",
       "      <td>C?­diz CF</td>\n",
       "      <td>1058</td>\n",
       "      <td>C?­diz</td>\n",
       "      <td>2020</td>\n",
       "      <td>Spain</td>\n",
       "      <td>5</td>\n",
       "      <td>13</td>\n",
       "      <td>6</td>\n",
       "      <td>7</td>\n",
       "      <td>0</td>\n",
       "      <td>...</td>\n",
       "      <td>2</td>\n",
       "      <td>2</td>\n",
       "      <td>1</td>\n",
       "      <td>3</td>\n",
       "      <td>0.23</td>\n",
       "      <td>0.33</td>\n",
       "      <td>0.14</td>\n",
       "      <td>0.38</td>\n",
       "      <td>0.50</td>\n",
       "      <td>0.29</td>\n",
       "    </tr>\n",
       "  </tbody>\n",
       "</table>\n",
       "<p>1058 rows × 196 columns</p>\n",
       "</div>"
      ],
      "text/plain": [
       "                            team_name  team_code           common_name  \\\n",
       "0                          Arsenal FC          1               Arsenal   \n",
       "1                Tottenham Hotspur FC          2     Tottenham Hotspur   \n",
       "2                  Manchester City FC          3       Manchester City   \n",
       "3                   Leicester City FC          4        Leicester City   \n",
       "4             West Bromwich Albion FC          5  West Bromwich Albion   \n",
       "...                               ...        ...                   ...   \n",
       "1053           Getafe Club de F?§tbol       1054             Getafe CF   \n",
       "1054                         Elche CF       1055              Elche CF   \n",
       "1055  Real Valladolid Club de F?§tbol       1056       Real Valladolid   \n",
       "1056                        SD Huesca       1057             SD Huesca   \n",
       "1057                        C?­diz CF       1058                C?­diz   \n",
       "\n",
       "      season  country  country_code  matches_played  matches_played_home  \\\n",
       "0       2020  England             1              13                    7   \n",
       "1       2020  England             1              13                    6   \n",
       "2       2020  England             1              12                    6   \n",
       "3       2020  England             1              13                    7   \n",
       "4       2020  England             1              13                    6   \n",
       "...      ...      ...           ...             ...                  ...   \n",
       "1053    2020    Spain             5              12                    7   \n",
       "1054    2020    Spain             5              12                    6   \n",
       "1055    2020    Spain             5              13                    7   \n",
       "1056    2020    Spain             5              14                    6   \n",
       "1057    2020    Spain             5              13                    6   \n",
       "\n",
       "      matches_played_away  suspended_matches  ...  \\\n",
       "0                       6                  0  ...   \n",
       "1                       7                  0  ...   \n",
       "2                       6                  1  ...   \n",
       "3                       6                  0  ...   \n",
       "4                       7                  0  ...   \n",
       "...                   ...                ...  ...   \n",
       "1053                    5                  1  ...   \n",
       "1054                    6                  2  ...   \n",
       "1055                    6                  0  ...   \n",
       "1056                    8                  0  ...   \n",
       "1057                    7                  0  ...   \n",
       "\n",
       "      goals_conceded_min_51_to_60  goals_conceded_min_61_to_70  \\\n",
       "0                               0                            0   \n",
       "1                               2                            0   \n",
       "2                               3                            1   \n",
       "3                               0                            0   \n",
       "4                               6                            5   \n",
       "...                           ...                          ...   \n",
       "1053                            1                            1   \n",
       "1054                            4                            0   \n",
       "1055                            5                            2   \n",
       "1056                            3                            3   \n",
       "1057                            2                            2   \n",
       "\n",
       "      goals_conceded_min_71_to_80  goals_conceded_min_81_to_90  \\\n",
       "0                               4                            2   \n",
       "1                               0                            7   \n",
       "2                               2                            1   \n",
       "3                               2                            4   \n",
       "4                               1                            5   \n",
       "...                           ...                          ...   \n",
       "1053                            1                            3   \n",
       "1054                            3                            1   \n",
       "1055                            1                            4   \n",
       "1056                            1                            7   \n",
       "1057                            1                            3   \n",
       "\n",
       "      draw_percentage_overall  draw_percentage_home  draw_percentage_away  \\\n",
       "0                        0.15                  0.14                  0.17   \n",
       "1                        0.31                  0.33                  0.29   \n",
       "2                        0.42                  0.33                  0.50   \n",
       "3                        0.00                  0.00                  0.00   \n",
       "4                        0.31                  0.33                  0.29   \n",
       "...                       ...                   ...                   ...   \n",
       "1053                     0.33                  0.14                  0.60   \n",
       "1054                     0.42                  0.50                  0.33   \n",
       "1055                     0.31                  0.43                  0.17   \n",
       "1056                     0.57                  0.50                  0.63   \n",
       "1057                     0.23                  0.33                  0.14   \n",
       "\n",
       "      loss_percentage_ovearll  loss_percentage_home  loss_percentage_away  \n",
       "0                        0.54                  0.57                  0.50  \n",
       "1                        0.15                  0.17                  0.14  \n",
       "2                        0.17                  0.17                  0.17  \n",
       "3                        0.38                  0.57                  0.17  \n",
       "4                        0.62                  0.50                  0.71  \n",
       "...                       ...                   ...                   ...  \n",
       "1053                     0.42                  0.43                  0.40  \n",
       "1054                     0.33                  0.33                  0.33  \n",
       "1055                     0.46                  0.29                  0.67  \n",
       "1056                     0.36                  0.33                  0.38  \n",
       "1057                     0.38                  0.50                  0.29  \n",
       "\n",
       "[1058 rows x 196 columns]"
      ]
     },
     "execution_count": 3,
     "metadata": {},
     "output_type": "execute_result"
    }
   ],
   "source": [
    "# Drop the null columns where all values are null\n",
    "soccer_data_null_columns_df = soccer_data_df.dropna(axis='columns', how='all')\n",
    "soccer_data_null_columns_df"
   ]
  },
  {
   "cell_type": "code",
   "execution_count": 4,
   "metadata": {},
   "outputs": [
    {
     "data": {
      "text/html": [
       "<div>\n",
       "<style scoped>\n",
       "    .dataframe tbody tr th:only-of-type {\n",
       "        vertical-align: middle;\n",
       "    }\n",
       "\n",
       "    .dataframe tbody tr th {\n",
       "        vertical-align: top;\n",
       "    }\n",
       "\n",
       "    .dataframe thead th {\n",
       "        text-align: right;\n",
       "    }\n",
       "</style>\n",
       "<table border=\"1\" class=\"dataframe\">\n",
       "  <thead>\n",
       "    <tr style=\"text-align: right;\">\n",
       "      <th></th>\n",
       "      <th>team_name</th>\n",
       "      <th>team_code</th>\n",
       "      <th>common_name</th>\n",
       "      <th>season</th>\n",
       "      <th>country</th>\n",
       "      <th>country_code</th>\n",
       "      <th>matches_played</th>\n",
       "      <th>matches_played_home</th>\n",
       "      <th>matches_played_away</th>\n",
       "      <th>suspended_matches</th>\n",
       "      <th>...</th>\n",
       "      <th>goals_conceded_min_51_to_60</th>\n",
       "      <th>goals_conceded_min_61_to_70</th>\n",
       "      <th>goals_conceded_min_71_to_80</th>\n",
       "      <th>goals_conceded_min_81_to_90</th>\n",
       "      <th>draw_percentage_overall</th>\n",
       "      <th>draw_percentage_home</th>\n",
       "      <th>draw_percentage_away</th>\n",
       "      <th>loss_percentage_ovearll</th>\n",
       "      <th>loss_percentage_home</th>\n",
       "      <th>loss_percentage_away</th>\n",
       "    </tr>\n",
       "  </thead>\n",
       "  <tbody>\n",
       "    <tr>\n",
       "      <th>0</th>\n",
       "      <td>Arsenal FC</td>\n",
       "      <td>1</td>\n",
       "      <td>Arsenal</td>\n",
       "      <td>2020</td>\n",
       "      <td>England</td>\n",
       "      <td>1</td>\n",
       "      <td>13</td>\n",
       "      <td>7</td>\n",
       "      <td>6</td>\n",
       "      <td>0</td>\n",
       "      <td>...</td>\n",
       "      <td>0</td>\n",
       "      <td>0</td>\n",
       "      <td>4</td>\n",
       "      <td>2</td>\n",
       "      <td>0.15</td>\n",
       "      <td>0.14</td>\n",
       "      <td>0.17</td>\n",
       "      <td>0.54</td>\n",
       "      <td>0.57</td>\n",
       "      <td>0.50</td>\n",
       "    </tr>\n",
       "    <tr>\n",
       "      <th>1</th>\n",
       "      <td>Tottenham Hotspur FC</td>\n",
       "      <td>2</td>\n",
       "      <td>Tottenham Hotspur</td>\n",
       "      <td>2020</td>\n",
       "      <td>England</td>\n",
       "      <td>1</td>\n",
       "      <td>13</td>\n",
       "      <td>6</td>\n",
       "      <td>7</td>\n",
       "      <td>0</td>\n",
       "      <td>...</td>\n",
       "      <td>2</td>\n",
       "      <td>0</td>\n",
       "      <td>0</td>\n",
       "      <td>7</td>\n",
       "      <td>0.31</td>\n",
       "      <td>0.33</td>\n",
       "      <td>0.29</td>\n",
       "      <td>0.15</td>\n",
       "      <td>0.17</td>\n",
       "      <td>0.14</td>\n",
       "    </tr>\n",
       "    <tr>\n",
       "      <th>2</th>\n",
       "      <td>Manchester City FC</td>\n",
       "      <td>3</td>\n",
       "      <td>Manchester City</td>\n",
       "      <td>2020</td>\n",
       "      <td>England</td>\n",
       "      <td>1</td>\n",
       "      <td>12</td>\n",
       "      <td>6</td>\n",
       "      <td>6</td>\n",
       "      <td>1</td>\n",
       "      <td>...</td>\n",
       "      <td>3</td>\n",
       "      <td>1</td>\n",
       "      <td>2</td>\n",
       "      <td>1</td>\n",
       "      <td>0.42</td>\n",
       "      <td>0.33</td>\n",
       "      <td>0.50</td>\n",
       "      <td>0.17</td>\n",
       "      <td>0.17</td>\n",
       "      <td>0.17</td>\n",
       "    </tr>\n",
       "    <tr>\n",
       "      <th>3</th>\n",
       "      <td>Leicester City FC</td>\n",
       "      <td>4</td>\n",
       "      <td>Leicester City</td>\n",
       "      <td>2020</td>\n",
       "      <td>England</td>\n",
       "      <td>1</td>\n",
       "      <td>13</td>\n",
       "      <td>7</td>\n",
       "      <td>6</td>\n",
       "      <td>0</td>\n",
       "      <td>...</td>\n",
       "      <td>0</td>\n",
       "      <td>0</td>\n",
       "      <td>2</td>\n",
       "      <td>4</td>\n",
       "      <td>0.00</td>\n",
       "      <td>0.00</td>\n",
       "      <td>0.00</td>\n",
       "      <td>0.38</td>\n",
       "      <td>0.57</td>\n",
       "      <td>0.17</td>\n",
       "    </tr>\n",
       "    <tr>\n",
       "      <th>4</th>\n",
       "      <td>West Bromwich Albion FC</td>\n",
       "      <td>5</td>\n",
       "      <td>West Bromwich Albion</td>\n",
       "      <td>2020</td>\n",
       "      <td>England</td>\n",
       "      <td>1</td>\n",
       "      <td>13</td>\n",
       "      <td>6</td>\n",
       "      <td>7</td>\n",
       "      <td>0</td>\n",
       "      <td>...</td>\n",
       "      <td>6</td>\n",
       "      <td>5</td>\n",
       "      <td>1</td>\n",
       "      <td>5</td>\n",
       "      <td>0.31</td>\n",
       "      <td>0.33</td>\n",
       "      <td>0.29</td>\n",
       "      <td>0.62</td>\n",
       "      <td>0.50</td>\n",
       "      <td>0.71</td>\n",
       "    </tr>\n",
       "    <tr>\n",
       "      <th>...</th>\n",
       "      <td>...</td>\n",
       "      <td>...</td>\n",
       "      <td>...</td>\n",
       "      <td>...</td>\n",
       "      <td>...</td>\n",
       "      <td>...</td>\n",
       "      <td>...</td>\n",
       "      <td>...</td>\n",
       "      <td>...</td>\n",
       "      <td>...</td>\n",
       "      <td>...</td>\n",
       "      <td>...</td>\n",
       "      <td>...</td>\n",
       "      <td>...</td>\n",
       "      <td>...</td>\n",
       "      <td>...</td>\n",
       "      <td>...</td>\n",
       "      <td>...</td>\n",
       "      <td>...</td>\n",
       "      <td>...</td>\n",
       "      <td>...</td>\n",
       "    </tr>\n",
       "    <tr>\n",
       "      <th>1053</th>\n",
       "      <td>Getafe Club de F?§tbol</td>\n",
       "      <td>1054</td>\n",
       "      <td>Getafe CF</td>\n",
       "      <td>2020</td>\n",
       "      <td>Spain</td>\n",
       "      <td>5</td>\n",
       "      <td>12</td>\n",
       "      <td>7</td>\n",
       "      <td>5</td>\n",
       "      <td>1</td>\n",
       "      <td>...</td>\n",
       "      <td>1</td>\n",
       "      <td>1</td>\n",
       "      <td>1</td>\n",
       "      <td>3</td>\n",
       "      <td>0.33</td>\n",
       "      <td>0.14</td>\n",
       "      <td>0.60</td>\n",
       "      <td>0.42</td>\n",
       "      <td>0.43</td>\n",
       "      <td>0.40</td>\n",
       "    </tr>\n",
       "    <tr>\n",
       "      <th>1054</th>\n",
       "      <td>Elche CF</td>\n",
       "      <td>1055</td>\n",
       "      <td>Elche CF</td>\n",
       "      <td>2020</td>\n",
       "      <td>Spain</td>\n",
       "      <td>5</td>\n",
       "      <td>12</td>\n",
       "      <td>6</td>\n",
       "      <td>6</td>\n",
       "      <td>2</td>\n",
       "      <td>...</td>\n",
       "      <td>4</td>\n",
       "      <td>0</td>\n",
       "      <td>3</td>\n",
       "      <td>1</td>\n",
       "      <td>0.42</td>\n",
       "      <td>0.50</td>\n",
       "      <td>0.33</td>\n",
       "      <td>0.33</td>\n",
       "      <td>0.33</td>\n",
       "      <td>0.33</td>\n",
       "    </tr>\n",
       "    <tr>\n",
       "      <th>1055</th>\n",
       "      <td>Real Valladolid Club de F?§tbol</td>\n",
       "      <td>1056</td>\n",
       "      <td>Real Valladolid</td>\n",
       "      <td>2020</td>\n",
       "      <td>Spain</td>\n",
       "      <td>5</td>\n",
       "      <td>13</td>\n",
       "      <td>7</td>\n",
       "      <td>6</td>\n",
       "      <td>0</td>\n",
       "      <td>...</td>\n",
       "      <td>5</td>\n",
       "      <td>2</td>\n",
       "      <td>1</td>\n",
       "      <td>4</td>\n",
       "      <td>0.31</td>\n",
       "      <td>0.43</td>\n",
       "      <td>0.17</td>\n",
       "      <td>0.46</td>\n",
       "      <td>0.29</td>\n",
       "      <td>0.67</td>\n",
       "    </tr>\n",
       "    <tr>\n",
       "      <th>1056</th>\n",
       "      <td>SD Huesca</td>\n",
       "      <td>1057</td>\n",
       "      <td>SD Huesca</td>\n",
       "      <td>2020</td>\n",
       "      <td>Spain</td>\n",
       "      <td>5</td>\n",
       "      <td>14</td>\n",
       "      <td>6</td>\n",
       "      <td>8</td>\n",
       "      <td>0</td>\n",
       "      <td>...</td>\n",
       "      <td>3</td>\n",
       "      <td>3</td>\n",
       "      <td>1</td>\n",
       "      <td>7</td>\n",
       "      <td>0.57</td>\n",
       "      <td>0.50</td>\n",
       "      <td>0.63</td>\n",
       "      <td>0.36</td>\n",
       "      <td>0.33</td>\n",
       "      <td>0.38</td>\n",
       "    </tr>\n",
       "    <tr>\n",
       "      <th>1057</th>\n",
       "      <td>C?­diz CF</td>\n",
       "      <td>1058</td>\n",
       "      <td>C?­diz</td>\n",
       "      <td>2020</td>\n",
       "      <td>Spain</td>\n",
       "      <td>5</td>\n",
       "      <td>13</td>\n",
       "      <td>6</td>\n",
       "      <td>7</td>\n",
       "      <td>0</td>\n",
       "      <td>...</td>\n",
       "      <td>2</td>\n",
       "      <td>2</td>\n",
       "      <td>1</td>\n",
       "      <td>3</td>\n",
       "      <td>0.23</td>\n",
       "      <td>0.33</td>\n",
       "      <td>0.14</td>\n",
       "      <td>0.38</td>\n",
       "      <td>0.50</td>\n",
       "      <td>0.29</td>\n",
       "    </tr>\n",
       "  </tbody>\n",
       "</table>\n",
       "<p>1058 rows × 196 columns</p>\n",
       "</div>"
      ],
      "text/plain": [
       "                            team_name  team_code           common_name  \\\n",
       "0                          Arsenal FC          1               Arsenal   \n",
       "1                Tottenham Hotspur FC          2     Tottenham Hotspur   \n",
       "2                  Manchester City FC          3       Manchester City   \n",
       "3                   Leicester City FC          4        Leicester City   \n",
       "4             West Bromwich Albion FC          5  West Bromwich Albion   \n",
       "...                               ...        ...                   ...   \n",
       "1053           Getafe Club de F?§tbol       1054             Getafe CF   \n",
       "1054                         Elche CF       1055              Elche CF   \n",
       "1055  Real Valladolid Club de F?§tbol       1056       Real Valladolid   \n",
       "1056                        SD Huesca       1057             SD Huesca   \n",
       "1057                        C?­diz CF       1058                C?­diz   \n",
       "\n",
       "      season  country  country_code  matches_played  matches_played_home  \\\n",
       "0       2020  England             1              13                    7   \n",
       "1       2020  England             1              13                    6   \n",
       "2       2020  England             1              12                    6   \n",
       "3       2020  England             1              13                    7   \n",
       "4       2020  England             1              13                    6   \n",
       "...      ...      ...           ...             ...                  ...   \n",
       "1053    2020    Spain             5              12                    7   \n",
       "1054    2020    Spain             5              12                    6   \n",
       "1055    2020    Spain             5              13                    7   \n",
       "1056    2020    Spain             5              14                    6   \n",
       "1057    2020    Spain             5              13                    6   \n",
       "\n",
       "      matches_played_away  suspended_matches  ...  \\\n",
       "0                       6                  0  ...   \n",
       "1                       7                  0  ...   \n",
       "2                       6                  1  ...   \n",
       "3                       6                  0  ...   \n",
       "4                       7                  0  ...   \n",
       "...                   ...                ...  ...   \n",
       "1053                    5                  1  ...   \n",
       "1054                    6                  2  ...   \n",
       "1055                    6                  0  ...   \n",
       "1056                    8                  0  ...   \n",
       "1057                    7                  0  ...   \n",
       "\n",
       "      goals_conceded_min_51_to_60  goals_conceded_min_61_to_70  \\\n",
       "0                               0                            0   \n",
       "1                               2                            0   \n",
       "2                               3                            1   \n",
       "3                               0                            0   \n",
       "4                               6                            5   \n",
       "...                           ...                          ...   \n",
       "1053                            1                            1   \n",
       "1054                            4                            0   \n",
       "1055                            5                            2   \n",
       "1056                            3                            3   \n",
       "1057                            2                            2   \n",
       "\n",
       "      goals_conceded_min_71_to_80  goals_conceded_min_81_to_90  \\\n",
       "0                               4                            2   \n",
       "1                               0                            7   \n",
       "2                               2                            1   \n",
       "3                               2                            4   \n",
       "4                               1                            5   \n",
       "...                           ...                          ...   \n",
       "1053                            1                            3   \n",
       "1054                            3                            1   \n",
       "1055                            1                            4   \n",
       "1056                            1                            7   \n",
       "1057                            1                            3   \n",
       "\n",
       "      draw_percentage_overall  draw_percentage_home  draw_percentage_away  \\\n",
       "0                        0.15                  0.14                  0.17   \n",
       "1                        0.31                  0.33                  0.29   \n",
       "2                        0.42                  0.33                  0.50   \n",
       "3                        0.00                  0.00                  0.00   \n",
       "4                        0.31                  0.33                  0.29   \n",
       "...                       ...                   ...                   ...   \n",
       "1053                     0.33                  0.14                  0.60   \n",
       "1054                     0.42                  0.50                  0.33   \n",
       "1055                     0.31                  0.43                  0.17   \n",
       "1056                     0.57                  0.50                  0.63   \n",
       "1057                     0.23                  0.33                  0.14   \n",
       "\n",
       "      loss_percentage_ovearll  loss_percentage_home  loss_percentage_away  \n",
       "0                        0.54                  0.57                  0.50  \n",
       "1                        0.15                  0.17                  0.14  \n",
       "2                        0.17                  0.17                  0.17  \n",
       "3                        0.38                  0.57                  0.17  \n",
       "4                        0.62                  0.50                  0.71  \n",
       "...                       ...                   ...                   ...  \n",
       "1053                     0.42                  0.43                  0.40  \n",
       "1054                     0.33                  0.33                  0.33  \n",
       "1055                     0.46                  0.29                  0.67  \n",
       "1056                     0.36                  0.33                  0.38  \n",
       "1057                     0.38                  0.50                  0.29  \n",
       "\n",
       "[1058 rows x 196 columns]"
      ]
     },
     "execution_count": 4,
     "metadata": {},
     "output_type": "execute_result"
    }
   ],
   "source": [
    "# Drop the null rows\n",
    "df_null = soccer_data_df.dropna()\n",
    "df_null\n",
    "\n",
    "# No columns or rows were dropped so we can use our original data."
   ]
  },
  {
   "cell_type": "code",
   "execution_count": 5,
   "metadata": {},
   "outputs": [
    {
     "data": {
      "text/html": [
       "<div>\n",
       "<style scoped>\n",
       "    .dataframe tbody tr th:only-of-type {\n",
       "        vertical-align: middle;\n",
       "    }\n",
       "\n",
       "    .dataframe tbody tr th {\n",
       "        vertical-align: top;\n",
       "    }\n",
       "\n",
       "    .dataframe thead th {\n",
       "        text-align: right;\n",
       "    }\n",
       "</style>\n",
       "<table border=\"1\" class=\"dataframe\">\n",
       "  <thead>\n",
       "    <tr style=\"text-align: right;\">\n",
       "      <th></th>\n",
       "      <th>team_code</th>\n",
       "      <th>season</th>\n",
       "      <th>Champion</th>\n",
       "    </tr>\n",
       "  </thead>\n",
       "  <tbody>\n",
       "    <tr>\n",
       "      <th>0</th>\n",
       "      <td>1</td>\n",
       "      <td>2020</td>\n",
       "      <td>Not</td>\n",
       "    </tr>\n",
       "    <tr>\n",
       "      <th>1</th>\n",
       "      <td>2</td>\n",
       "      <td>2020</td>\n",
       "      <td>Champion</td>\n",
       "    </tr>\n",
       "    <tr>\n",
       "      <th>2</th>\n",
       "      <td>3</td>\n",
       "      <td>2020</td>\n",
       "      <td>Not</td>\n",
       "    </tr>\n",
       "    <tr>\n",
       "      <th>3</th>\n",
       "      <td>4</td>\n",
       "      <td>2020</td>\n",
       "      <td>Champion</td>\n",
       "    </tr>\n",
       "    <tr>\n",
       "      <th>4</th>\n",
       "      <td>5</td>\n",
       "      <td>2020</td>\n",
       "      <td>Not</td>\n",
       "    </tr>\n",
       "    <tr>\n",
       "      <th>...</th>\n",
       "      <td>...</td>\n",
       "      <td>...</td>\n",
       "      <td>...</td>\n",
       "    </tr>\n",
       "    <tr>\n",
       "      <th>195</th>\n",
       "      <td>196</td>\n",
       "      <td>2011</td>\n",
       "      <td>Not</td>\n",
       "    </tr>\n",
       "    <tr>\n",
       "      <th>196</th>\n",
       "      <td>197</td>\n",
       "      <td>2011</td>\n",
       "      <td>Not</td>\n",
       "    </tr>\n",
       "    <tr>\n",
       "      <th>197</th>\n",
       "      <td>198</td>\n",
       "      <td>2011</td>\n",
       "      <td>Not</td>\n",
       "    </tr>\n",
       "    <tr>\n",
       "      <th>198</th>\n",
       "      <td>199</td>\n",
       "      <td>2011</td>\n",
       "      <td>Not</td>\n",
       "    </tr>\n",
       "    <tr>\n",
       "      <th>199</th>\n",
       "      <td>200</td>\n",
       "      <td>2011</td>\n",
       "      <td>Not</td>\n",
       "    </tr>\n",
       "  </tbody>\n",
       "</table>\n",
       "<p>200 rows × 3 columns</p>\n",
       "</div>"
      ],
      "text/plain": [
       "     team_code  season  Champion\n",
       "0            1    2020       Not\n",
       "1            2    2020  Champion\n",
       "2            3    2020       Not\n",
       "3            4    2020  Champion\n",
       "4            5    2020       Not\n",
       "..         ...     ...       ...\n",
       "195        196    2011       Not\n",
       "196        197    2011       Not\n",
       "197        198    2011       Not\n",
       "198        199    2011       Not\n",
       "199        200    2011       Not\n",
       "\n",
       "[200 rows x 3 columns]"
      ]
     },
     "execution_count": 5,
     "metadata": {},
     "output_type": "execute_result"
    }
   ],
   "source": [
    "soccer_data_df['Champion'] = np.where(soccer_data_df['league_position'] <= 4, \"Champion\", \"Not\")\n",
    "soccer_data_df[['team_code','season','Champion']].head(200)"
   ]
  },
  {
   "cell_type": "code",
   "execution_count": 6,
   "metadata": {},
   "outputs": [],
   "source": [
    "soccer_data_df = soccer_data_df.drop(['team_name','common_name','country'], axis=1)"
   ]
  },
  {
   "cell_type": "code",
   "execution_count": 7,
   "metadata": {},
   "outputs": [
    {
     "data": {
      "text/html": [
       "<div>\n",
       "<style scoped>\n",
       "    .dataframe tbody tr th:only-of-type {\n",
       "        vertical-align: middle;\n",
       "    }\n",
       "\n",
       "    .dataframe tbody tr th {\n",
       "        vertical-align: top;\n",
       "    }\n",
       "\n",
       "    .dataframe thead th {\n",
       "        text-align: right;\n",
       "    }\n",
       "</style>\n",
       "<table border=\"1\" class=\"dataframe\">\n",
       "  <thead>\n",
       "    <tr style=\"text-align: right;\">\n",
       "      <th></th>\n",
       "      <th>team_code</th>\n",
       "      <th>season</th>\n",
       "      <th>country_code</th>\n",
       "      <th>matches_played</th>\n",
       "      <th>matches_played_home</th>\n",
       "      <th>matches_played_away</th>\n",
       "      <th>suspended_matches</th>\n",
       "      <th>wins</th>\n",
       "      <th>wins_home</th>\n",
       "      <th>wins_away</th>\n",
       "      <th>...</th>\n",
       "      <th>goals_conceded_min_61_to_70</th>\n",
       "      <th>goals_conceded_min_71_to_80</th>\n",
       "      <th>goals_conceded_min_81_to_90</th>\n",
       "      <th>draw_percentage_overall</th>\n",
       "      <th>draw_percentage_home</th>\n",
       "      <th>draw_percentage_away</th>\n",
       "      <th>loss_percentage_ovearll</th>\n",
       "      <th>loss_percentage_home</th>\n",
       "      <th>loss_percentage_away</th>\n",
       "      <th>Champion</th>\n",
       "    </tr>\n",
       "  </thead>\n",
       "  <tbody>\n",
       "    <tr>\n",
       "      <th>0</th>\n",
       "      <td>1</td>\n",
       "      <td>2020</td>\n",
       "      <td>1</td>\n",
       "      <td>13</td>\n",
       "      <td>7</td>\n",
       "      <td>6</td>\n",
       "      <td>0</td>\n",
       "      <td>4</td>\n",
       "      <td>2</td>\n",
       "      <td>2</td>\n",
       "      <td>...</td>\n",
       "      <td>0</td>\n",
       "      <td>4</td>\n",
       "      <td>2</td>\n",
       "      <td>0.15</td>\n",
       "      <td>0.14</td>\n",
       "      <td>0.17</td>\n",
       "      <td>0.54</td>\n",
       "      <td>0.57</td>\n",
       "      <td>0.50</td>\n",
       "      <td>Not</td>\n",
       "    </tr>\n",
       "    <tr>\n",
       "      <th>1</th>\n",
       "      <td>2</td>\n",
       "      <td>2020</td>\n",
       "      <td>1</td>\n",
       "      <td>13</td>\n",
       "      <td>6</td>\n",
       "      <td>7</td>\n",
       "      <td>0</td>\n",
       "      <td>7</td>\n",
       "      <td>3</td>\n",
       "      <td>4</td>\n",
       "      <td>...</td>\n",
       "      <td>0</td>\n",
       "      <td>0</td>\n",
       "      <td>7</td>\n",
       "      <td>0.31</td>\n",
       "      <td>0.33</td>\n",
       "      <td>0.29</td>\n",
       "      <td>0.15</td>\n",
       "      <td>0.17</td>\n",
       "      <td>0.14</td>\n",
       "      <td>Champion</td>\n",
       "    </tr>\n",
       "    <tr>\n",
       "      <th>2</th>\n",
       "      <td>3</td>\n",
       "      <td>2020</td>\n",
       "      <td>1</td>\n",
       "      <td>12</td>\n",
       "      <td>6</td>\n",
       "      <td>6</td>\n",
       "      <td>1</td>\n",
       "      <td>5</td>\n",
       "      <td>3</td>\n",
       "      <td>2</td>\n",
       "      <td>...</td>\n",
       "      <td>1</td>\n",
       "      <td>2</td>\n",
       "      <td>1</td>\n",
       "      <td>0.42</td>\n",
       "      <td>0.33</td>\n",
       "      <td>0.50</td>\n",
       "      <td>0.17</td>\n",
       "      <td>0.17</td>\n",
       "      <td>0.17</td>\n",
       "      <td>Not</td>\n",
       "    </tr>\n",
       "    <tr>\n",
       "      <th>3</th>\n",
       "      <td>4</td>\n",
       "      <td>2020</td>\n",
       "      <td>1</td>\n",
       "      <td>13</td>\n",
       "      <td>7</td>\n",
       "      <td>6</td>\n",
       "      <td>0</td>\n",
       "      <td>8</td>\n",
       "      <td>3</td>\n",
       "      <td>5</td>\n",
       "      <td>...</td>\n",
       "      <td>0</td>\n",
       "      <td>2</td>\n",
       "      <td>4</td>\n",
       "      <td>0.00</td>\n",
       "      <td>0.00</td>\n",
       "      <td>0.00</td>\n",
       "      <td>0.38</td>\n",
       "      <td>0.57</td>\n",
       "      <td>0.17</td>\n",
       "      <td>Champion</td>\n",
       "    </tr>\n",
       "    <tr>\n",
       "      <th>4</th>\n",
       "      <td>5</td>\n",
       "      <td>2020</td>\n",
       "      <td>1</td>\n",
       "      <td>13</td>\n",
       "      <td>6</td>\n",
       "      <td>7</td>\n",
       "      <td>0</td>\n",
       "      <td>1</td>\n",
       "      <td>1</td>\n",
       "      <td>0</td>\n",
       "      <td>...</td>\n",
       "      <td>5</td>\n",
       "      <td>1</td>\n",
       "      <td>5</td>\n",
       "      <td>0.31</td>\n",
       "      <td>0.33</td>\n",
       "      <td>0.29</td>\n",
       "      <td>0.62</td>\n",
       "      <td>0.50</td>\n",
       "      <td>0.71</td>\n",
       "      <td>Not</td>\n",
       "    </tr>\n",
       "    <tr>\n",
       "      <th>...</th>\n",
       "      <td>...</td>\n",
       "      <td>...</td>\n",
       "      <td>...</td>\n",
       "      <td>...</td>\n",
       "      <td>...</td>\n",
       "      <td>...</td>\n",
       "      <td>...</td>\n",
       "      <td>...</td>\n",
       "      <td>...</td>\n",
       "      <td>...</td>\n",
       "      <td>...</td>\n",
       "      <td>...</td>\n",
       "      <td>...</td>\n",
       "      <td>...</td>\n",
       "      <td>...</td>\n",
       "      <td>...</td>\n",
       "      <td>...</td>\n",
       "      <td>...</td>\n",
       "      <td>...</td>\n",
       "      <td>...</td>\n",
       "      <td>...</td>\n",
       "    </tr>\n",
       "    <tr>\n",
       "      <th>1053</th>\n",
       "      <td>1054</td>\n",
       "      <td>2020</td>\n",
       "      <td>5</td>\n",
       "      <td>12</td>\n",
       "      <td>7</td>\n",
       "      <td>5</td>\n",
       "      <td>1</td>\n",
       "      <td>3</td>\n",
       "      <td>3</td>\n",
       "      <td>0</td>\n",
       "      <td>...</td>\n",
       "      <td>1</td>\n",
       "      <td>1</td>\n",
       "      <td>3</td>\n",
       "      <td>0.33</td>\n",
       "      <td>0.14</td>\n",
       "      <td>0.60</td>\n",
       "      <td>0.42</td>\n",
       "      <td>0.43</td>\n",
       "      <td>0.40</td>\n",
       "      <td>Not</td>\n",
       "    </tr>\n",
       "    <tr>\n",
       "      <th>1054</th>\n",
       "      <td>1055</td>\n",
       "      <td>2020</td>\n",
       "      <td>5</td>\n",
       "      <td>12</td>\n",
       "      <td>6</td>\n",
       "      <td>6</td>\n",
       "      <td>2</td>\n",
       "      <td>3</td>\n",
       "      <td>1</td>\n",
       "      <td>2</td>\n",
       "      <td>...</td>\n",
       "      <td>0</td>\n",
       "      <td>3</td>\n",
       "      <td>1</td>\n",
       "      <td>0.42</td>\n",
       "      <td>0.50</td>\n",
       "      <td>0.33</td>\n",
       "      <td>0.33</td>\n",
       "      <td>0.33</td>\n",
       "      <td>0.33</td>\n",
       "      <td>Not</td>\n",
       "    </tr>\n",
       "    <tr>\n",
       "      <th>1055</th>\n",
       "      <td>1056</td>\n",
       "      <td>2020</td>\n",
       "      <td>5</td>\n",
       "      <td>13</td>\n",
       "      <td>7</td>\n",
       "      <td>6</td>\n",
       "      <td>0</td>\n",
       "      <td>3</td>\n",
       "      <td>2</td>\n",
       "      <td>1</td>\n",
       "      <td>...</td>\n",
       "      <td>2</td>\n",
       "      <td>1</td>\n",
       "      <td>4</td>\n",
       "      <td>0.31</td>\n",
       "      <td>0.43</td>\n",
       "      <td>0.17</td>\n",
       "      <td>0.46</td>\n",
       "      <td>0.29</td>\n",
       "      <td>0.67</td>\n",
       "      <td>Not</td>\n",
       "    </tr>\n",
       "    <tr>\n",
       "      <th>1056</th>\n",
       "      <td>1057</td>\n",
       "      <td>2020</td>\n",
       "      <td>5</td>\n",
       "      <td>14</td>\n",
       "      <td>6</td>\n",
       "      <td>8</td>\n",
       "      <td>0</td>\n",
       "      <td>1</td>\n",
       "      <td>1</td>\n",
       "      <td>0</td>\n",
       "      <td>...</td>\n",
       "      <td>3</td>\n",
       "      <td>1</td>\n",
       "      <td>7</td>\n",
       "      <td>0.57</td>\n",
       "      <td>0.50</td>\n",
       "      <td>0.63</td>\n",
       "      <td>0.36</td>\n",
       "      <td>0.33</td>\n",
       "      <td>0.38</td>\n",
       "      <td>Not</td>\n",
       "    </tr>\n",
       "    <tr>\n",
       "      <th>1057</th>\n",
       "      <td>1058</td>\n",
       "      <td>2020</td>\n",
       "      <td>5</td>\n",
       "      <td>13</td>\n",
       "      <td>6</td>\n",
       "      <td>7</td>\n",
       "      <td>0</td>\n",
       "      <td>5</td>\n",
       "      <td>1</td>\n",
       "      <td>4</td>\n",
       "      <td>...</td>\n",
       "      <td>2</td>\n",
       "      <td>1</td>\n",
       "      <td>3</td>\n",
       "      <td>0.23</td>\n",
       "      <td>0.33</td>\n",
       "      <td>0.14</td>\n",
       "      <td>0.38</td>\n",
       "      <td>0.50</td>\n",
       "      <td>0.29</td>\n",
       "      <td>Not</td>\n",
       "    </tr>\n",
       "  </tbody>\n",
       "</table>\n",
       "<p>1058 rows × 194 columns</p>\n",
       "</div>"
      ],
      "text/plain": [
       "      team_code  season  country_code  matches_played  matches_played_home  \\\n",
       "0             1    2020             1              13                    7   \n",
       "1             2    2020             1              13                    6   \n",
       "2             3    2020             1              12                    6   \n",
       "3             4    2020             1              13                    7   \n",
       "4             5    2020             1              13                    6   \n",
       "...         ...     ...           ...             ...                  ...   \n",
       "1053       1054    2020             5              12                    7   \n",
       "1054       1055    2020             5              12                    6   \n",
       "1055       1056    2020             5              13                    7   \n",
       "1056       1057    2020             5              14                    6   \n",
       "1057       1058    2020             5              13                    6   \n",
       "\n",
       "      matches_played_away  suspended_matches  wins  wins_home  wins_away  ...  \\\n",
       "0                       6                  0     4          2          2  ...   \n",
       "1                       7                  0     7          3          4  ...   \n",
       "2                       6                  1     5          3          2  ...   \n",
       "3                       6                  0     8          3          5  ...   \n",
       "4                       7                  0     1          1          0  ...   \n",
       "...                   ...                ...   ...        ...        ...  ...   \n",
       "1053                    5                  1     3          3          0  ...   \n",
       "1054                    6                  2     3          1          2  ...   \n",
       "1055                    6                  0     3          2          1  ...   \n",
       "1056                    8                  0     1          1          0  ...   \n",
       "1057                    7                  0     5          1          4  ...   \n",
       "\n",
       "      goals_conceded_min_61_to_70  goals_conceded_min_71_to_80  \\\n",
       "0                               0                            4   \n",
       "1                               0                            0   \n",
       "2                               1                            2   \n",
       "3                               0                            2   \n",
       "4                               5                            1   \n",
       "...                           ...                          ...   \n",
       "1053                            1                            1   \n",
       "1054                            0                            3   \n",
       "1055                            2                            1   \n",
       "1056                            3                            1   \n",
       "1057                            2                            1   \n",
       "\n",
       "      goals_conceded_min_81_to_90  draw_percentage_overall  \\\n",
       "0                               2                     0.15   \n",
       "1                               7                     0.31   \n",
       "2                               1                     0.42   \n",
       "3                               4                     0.00   \n",
       "4                               5                     0.31   \n",
       "...                           ...                      ...   \n",
       "1053                            3                     0.33   \n",
       "1054                            1                     0.42   \n",
       "1055                            4                     0.31   \n",
       "1056                            7                     0.57   \n",
       "1057                            3                     0.23   \n",
       "\n",
       "      draw_percentage_home  draw_percentage_away  loss_percentage_ovearll  \\\n",
       "0                     0.14                  0.17                     0.54   \n",
       "1                     0.33                  0.29                     0.15   \n",
       "2                     0.33                  0.50                     0.17   \n",
       "3                     0.00                  0.00                     0.38   \n",
       "4                     0.33                  0.29                     0.62   \n",
       "...                    ...                   ...                      ...   \n",
       "1053                  0.14                  0.60                     0.42   \n",
       "1054                  0.50                  0.33                     0.33   \n",
       "1055                  0.43                  0.17                     0.46   \n",
       "1056                  0.50                  0.63                     0.36   \n",
       "1057                  0.33                  0.14                     0.38   \n",
       "\n",
       "      loss_percentage_home  loss_percentage_away  Champion  \n",
       "0                     0.57                  0.50       Not  \n",
       "1                     0.17                  0.14  Champion  \n",
       "2                     0.17                  0.17       Not  \n",
       "3                     0.57                  0.17  Champion  \n",
       "4                     0.50                  0.71       Not  \n",
       "...                    ...                   ...       ...  \n",
       "1053                  0.43                  0.40       Not  \n",
       "1054                  0.33                  0.33       Not  \n",
       "1055                  0.29                  0.67       Not  \n",
       "1056                  0.33                  0.38       Not  \n",
       "1057                  0.50                  0.29       Not  \n",
       "\n",
       "[1058 rows x 194 columns]"
      ]
     },
     "execution_count": 7,
     "metadata": {},
     "output_type": "execute_result"
    }
   ],
   "source": [
    "soccer_data_df"
   ]
  },
  {
   "cell_type": "code",
   "execution_count": 8,
   "metadata": {},
   "outputs": [
    {
     "data": {
      "text/plain": [
       "dtype('int64')"
      ]
     },
     "execution_count": 8,
     "metadata": {},
     "output_type": "execute_result"
    }
   ],
   "source": [
    "soccer_data_df['season'].dtypes"
   ]
  },
  {
   "cell_type": "code",
   "execution_count": 9,
   "metadata": {},
   "outputs": [
    {
     "data": {
      "text/html": [
       "<div>\n",
       "<style scoped>\n",
       "    .dataframe tbody tr th:only-of-type {\n",
       "        vertical-align: middle;\n",
       "    }\n",
       "\n",
       "    .dataframe tbody tr th {\n",
       "        vertical-align: top;\n",
       "    }\n",
       "\n",
       "    .dataframe thead th {\n",
       "        text-align: right;\n",
       "    }\n",
       "</style>\n",
       "<table border=\"1\" class=\"dataframe\">\n",
       "  <thead>\n",
       "    <tr style=\"text-align: right;\">\n",
       "      <th></th>\n",
       "      <th>team_code</th>\n",
       "      <th>season</th>\n",
       "      <th>country_code</th>\n",
       "      <th>Champion</th>\n",
       "      <th>wins_home</th>\n",
       "      <th>wins_away</th>\n",
       "      <th>average_possession</th>\n",
       "      <th>cards_per_match</th>\n",
       "      <th>clean_sheet_half_time_percentage_home</th>\n",
       "      <th>clean_sheet_percentage</th>\n",
       "      <th>...</th>\n",
       "      <th>shots_on_target</th>\n",
       "      <th>goals_scored_min_0_to_10</th>\n",
       "      <th>goals_scored_min_11_to_20</th>\n",
       "      <th>goals_scored_min_21_to_30</th>\n",
       "      <th>goals_scored_min_31_to_40</th>\n",
       "      <th>goals_scored_min_41_to_50</th>\n",
       "      <th>goals_scored_min_51_to_60</th>\n",
       "      <th>goals_scored_min_61_to_70</th>\n",
       "      <th>goals_scored_min_71_to_80</th>\n",
       "      <th>goals_scored_min_81_to_90</th>\n",
       "    </tr>\n",
       "  </thead>\n",
       "  <tbody>\n",
       "    <tr>\n",
       "      <th>0</th>\n",
       "      <td>1</td>\n",
       "      <td>2020</td>\n",
       "      <td>1</td>\n",
       "      <td>Not</td>\n",
       "      <td>2</td>\n",
       "      <td>2</td>\n",
       "      <td>54</td>\n",
       "      <td>1.92</td>\n",
       "      <td>0.43</td>\n",
       "      <td>0.23</td>\n",
       "      <td>...</td>\n",
       "      <td>50</td>\n",
       "      <td>1</td>\n",
       "      <td>0</td>\n",
       "      <td>3</td>\n",
       "      <td>0</td>\n",
       "      <td>1</td>\n",
       "      <td>2</td>\n",
       "      <td>3</td>\n",
       "      <td>0</td>\n",
       "      <td>1</td>\n",
       "    </tr>\n",
       "    <tr>\n",
       "      <th>1</th>\n",
       "      <td>2</td>\n",
       "      <td>2020</td>\n",
       "      <td>1</td>\n",
       "      <td>Champion</td>\n",
       "      <td>3</td>\n",
       "      <td>4</td>\n",
       "      <td>50</td>\n",
       "      <td>1.23</td>\n",
       "      <td>1.00</td>\n",
       "      <td>0.38</td>\n",
       "      <td>...</td>\n",
       "      <td>75</td>\n",
       "      <td>5</td>\n",
       "      <td>3</td>\n",
       "      <td>3</td>\n",
       "      <td>2</td>\n",
       "      <td>3</td>\n",
       "      <td>1</td>\n",
       "      <td>2</td>\n",
       "      <td>4</td>\n",
       "      <td>2</td>\n",
       "    </tr>\n",
       "    <tr>\n",
       "      <th>2</th>\n",
       "      <td>3</td>\n",
       "      <td>2020</td>\n",
       "      <td>1</td>\n",
       "      <td>Not</td>\n",
       "      <td>3</td>\n",
       "      <td>2</td>\n",
       "      <td>64</td>\n",
       "      <td>1.42</td>\n",
       "      <td>0.50</td>\n",
       "      <td>0.42</td>\n",
       "      <td>...</td>\n",
       "      <td>74</td>\n",
       "      <td>3</td>\n",
       "      <td>2</td>\n",
       "      <td>5</td>\n",
       "      <td>2</td>\n",
       "      <td>1</td>\n",
       "      <td>1</td>\n",
       "      <td>2</td>\n",
       "      <td>0</td>\n",
       "      <td>2</td>\n",
       "    </tr>\n",
       "    <tr>\n",
       "      <th>3</th>\n",
       "      <td>4</td>\n",
       "      <td>2020</td>\n",
       "      <td>1</td>\n",
       "      <td>Champion</td>\n",
       "      <td>3</td>\n",
       "      <td>5</td>\n",
       "      <td>54</td>\n",
       "      <td>2.15</td>\n",
       "      <td>0.43</td>\n",
       "      <td>0.31</td>\n",
       "      <td>...</td>\n",
       "      <td>64</td>\n",
       "      <td>1</td>\n",
       "      <td>2</td>\n",
       "      <td>3</td>\n",
       "      <td>1</td>\n",
       "      <td>3</td>\n",
       "      <td>3</td>\n",
       "      <td>1</td>\n",
       "      <td>5</td>\n",
       "      <td>5</td>\n",
       "    </tr>\n",
       "    <tr>\n",
       "      <th>4</th>\n",
       "      <td>5</td>\n",
       "      <td>2020</td>\n",
       "      <td>1</td>\n",
       "      <td>Not</td>\n",
       "      <td>1</td>\n",
       "      <td>0</td>\n",
       "      <td>42</td>\n",
       "      <td>1.77</td>\n",
       "      <td>0.83</td>\n",
       "      <td>0.15</td>\n",
       "      <td>...</td>\n",
       "      <td>47</td>\n",
       "      <td>2</td>\n",
       "      <td>1</td>\n",
       "      <td>3</td>\n",
       "      <td>0</td>\n",
       "      <td>3</td>\n",
       "      <td>0</td>\n",
       "      <td>0</td>\n",
       "      <td>0</td>\n",
       "      <td>1</td>\n",
       "    </tr>\n",
       "    <tr>\n",
       "      <th>5</th>\n",
       "      <td>6</td>\n",
       "      <td>2020</td>\n",
       "      <td>1</td>\n",
       "      <td>Not</td>\n",
       "      <td>2</td>\n",
       "      <td>3</td>\n",
       "      <td>41</td>\n",
       "      <td>1.69</td>\n",
       "      <td>0.50</td>\n",
       "      <td>0.08</td>\n",
       "      <td>...</td>\n",
       "      <td>58</td>\n",
       "      <td>3</td>\n",
       "      <td>3</td>\n",
       "      <td>2</td>\n",
       "      <td>1</td>\n",
       "      <td>1</td>\n",
       "      <td>2</td>\n",
       "      <td>3</td>\n",
       "      <td>1</td>\n",
       "      <td>3</td>\n",
       "    </tr>\n",
       "    <tr>\n",
       "      <th>6</th>\n",
       "      <td>7</td>\n",
       "      <td>2020</td>\n",
       "      <td>1</td>\n",
       "      <td>Not</td>\n",
       "      <td>3</td>\n",
       "      <td>4</td>\n",
       "      <td>50</td>\n",
       "      <td>1.92</td>\n",
       "      <td>0.33</td>\n",
       "      <td>0.23</td>\n",
       "      <td>...</td>\n",
       "      <td>73</td>\n",
       "      <td>2</td>\n",
       "      <td>3</td>\n",
       "      <td>3</td>\n",
       "      <td>3</td>\n",
       "      <td>3</td>\n",
       "      <td>3</td>\n",
       "      <td>3</td>\n",
       "      <td>1</td>\n",
       "      <td>2</td>\n",
       "    </tr>\n",
       "    <tr>\n",
       "      <th>7</th>\n",
       "      <td>8</td>\n",
       "      <td>2020</td>\n",
       "      <td>1</td>\n",
       "      <td>Not</td>\n",
       "      <td>1</td>\n",
       "      <td>1</td>\n",
       "      <td>41</td>\n",
       "      <td>1.25</td>\n",
       "      <td>0.40</td>\n",
       "      <td>0.42</td>\n",
       "      <td>...</td>\n",
       "      <td>41</td>\n",
       "      <td>3</td>\n",
       "      <td>0</td>\n",
       "      <td>0</td>\n",
       "      <td>0</td>\n",
       "      <td>0</td>\n",
       "      <td>0</td>\n",
       "      <td>1</td>\n",
       "      <td>2</td>\n",
       "      <td>0</td>\n",
       "    </tr>\n",
       "    <tr>\n",
       "      <th>8</th>\n",
       "      <td>9</td>\n",
       "      <td>2020</td>\n",
       "      <td>1</td>\n",
       "      <td>Champion</td>\n",
       "      <td>4</td>\n",
       "      <td>3</td>\n",
       "      <td>55</td>\n",
       "      <td>1.46</td>\n",
       "      <td>0.83</td>\n",
       "      <td>0.38</td>\n",
       "      <td>...</td>\n",
       "      <td>71</td>\n",
       "      <td>2</td>\n",
       "      <td>2</td>\n",
       "      <td>2</td>\n",
       "      <td>5</td>\n",
       "      <td>4</td>\n",
       "      <td>3</td>\n",
       "      <td>2</td>\n",
       "      <td>0</td>\n",
       "      <td>5</td>\n",
       "    </tr>\n",
       "    <tr>\n",
       "      <th>9</th>\n",
       "      <td>10</td>\n",
       "      <td>2020</td>\n",
       "      <td>1</td>\n",
       "      <td>Not</td>\n",
       "      <td>1</td>\n",
       "      <td>6</td>\n",
       "      <td>54</td>\n",
       "      <td>1.75</td>\n",
       "      <td>0.67</td>\n",
       "      <td>0.25</td>\n",
       "      <td>...</td>\n",
       "      <td>66</td>\n",
       "      <td>1</td>\n",
       "      <td>0</td>\n",
       "      <td>3</td>\n",
       "      <td>2</td>\n",
       "      <td>1</td>\n",
       "      <td>4</td>\n",
       "      <td>2</td>\n",
       "      <td>3</td>\n",
       "      <td>6</td>\n",
       "    </tr>\n",
       "  </tbody>\n",
       "</table>\n",
       "<p>10 rows × 30 columns</p>\n",
       "</div>"
      ],
      "text/plain": [
       "   team_code  season  country_code  Champion  wins_home  wins_away  \\\n",
       "0          1    2020             1       Not          2          2   \n",
       "1          2    2020             1  Champion          3          4   \n",
       "2          3    2020             1       Not          3          2   \n",
       "3          4    2020             1  Champion          3          5   \n",
       "4          5    2020             1       Not          1          0   \n",
       "5          6    2020             1       Not          2          3   \n",
       "6          7    2020             1       Not          3          4   \n",
       "7          8    2020             1       Not          1          1   \n",
       "8          9    2020             1  Champion          4          3   \n",
       "9         10    2020             1       Not          1          6   \n",
       "\n",
       "   average_possession  cards_per_match  clean_sheet_half_time_percentage_home  \\\n",
       "0                  54             1.92                                   0.43   \n",
       "1                  50             1.23                                   1.00   \n",
       "2                  64             1.42                                   0.50   \n",
       "3                  54             2.15                                   0.43   \n",
       "4                  42             1.77                                   0.83   \n",
       "5                  41             1.69                                   0.50   \n",
       "6                  50             1.92                                   0.33   \n",
       "7                  41             1.25                                   0.40   \n",
       "8                  55             1.46                                   0.83   \n",
       "9                  54             1.75                                   0.67   \n",
       "\n",
       "   clean_sheet_percentage  ...  shots_on_target  goals_scored_min_0_to_10  \\\n",
       "0                    0.23  ...               50                         1   \n",
       "1                    0.38  ...               75                         5   \n",
       "2                    0.42  ...               74                         3   \n",
       "3                    0.31  ...               64                         1   \n",
       "4                    0.15  ...               47                         2   \n",
       "5                    0.08  ...               58                         3   \n",
       "6                    0.23  ...               73                         2   \n",
       "7                    0.42  ...               41                         3   \n",
       "8                    0.38  ...               71                         2   \n",
       "9                    0.25  ...               66                         1   \n",
       "\n",
       "   goals_scored_min_11_to_20  goals_scored_min_21_to_30  \\\n",
       "0                          0                          3   \n",
       "1                          3                          3   \n",
       "2                          2                          5   \n",
       "3                          2                          3   \n",
       "4                          1                          3   \n",
       "5                          3                          2   \n",
       "6                          3                          3   \n",
       "7                          0                          0   \n",
       "8                          2                          2   \n",
       "9                          0                          3   \n",
       "\n",
       "   goals_scored_min_31_to_40  goals_scored_min_41_to_50  \\\n",
       "0                          0                          1   \n",
       "1                          2                          3   \n",
       "2                          2                          1   \n",
       "3                          1                          3   \n",
       "4                          0                          3   \n",
       "5                          1                          1   \n",
       "6                          3                          3   \n",
       "7                          0                          0   \n",
       "8                          5                          4   \n",
       "9                          2                          1   \n",
       "\n",
       "   goals_scored_min_51_to_60  goals_scored_min_61_to_70  \\\n",
       "0                          2                          3   \n",
       "1                          1                          2   \n",
       "2                          1                          2   \n",
       "3                          3                          1   \n",
       "4                          0                          0   \n",
       "5                          2                          3   \n",
       "6                          3                          3   \n",
       "7                          0                          1   \n",
       "8                          3                          2   \n",
       "9                          4                          2   \n",
       "\n",
       "   goals_scored_min_71_to_80  goals_scored_min_81_to_90  \n",
       "0                          0                          1  \n",
       "1                          4                          2  \n",
       "2                          0                          2  \n",
       "3                          5                          5  \n",
       "4                          0                          1  \n",
       "5                          1                          3  \n",
       "6                          1                          2  \n",
       "7                          2                          0  \n",
       "8                          0                          5  \n",
       "9                          3                          6  \n",
       "\n",
       "[10 rows x 30 columns]"
      ]
     },
     "execution_count": 9,
     "metadata": {},
     "output_type": "execute_result"
    }
   ],
   "source": [
    "soccer_data_ml_df = soccer_data_df[['team_code', 'season', 'country_code', 'Champion', 'wins_home', 'wins_away', 'average_possession', 'cards_per_match', 'clean_sheet_half_time_percentage_home', 'clean_sheet_percentage', 'corners_per_match', 'first_team_to_score_percentage', 'fouls', 'fts_half_time_percentage', 'fts_percentage', 'goals_conceded_per_match', 'goals_scored_per_match', 'leading_at_half_time_percentage', 'losing_at_half_time_percentage', 'shots', 'shots_on_target', 'goals_scored_min_0_to_10', 'goals_scored_min_11_to_20', 'goals_scored_min_21_to_30', 'goals_scored_min_31_to_40', 'goals_scored_min_41_to_50', 'goals_scored_min_51_to_60', 'goals_scored_min_61_to_70', 'goals_scored_min_71_to_80', 'goals_scored_min_81_to_90'\n",
    "]]\n",
    "soccer_data_ml_df.head(10)"
   ]
  },
  {
   "cell_type": "code",
   "execution_count": 10,
   "metadata": {},
   "outputs": [
    {
     "data": {
      "text/html": [
       "<div>\n",
       "<style scoped>\n",
       "    .dataframe tbody tr th:only-of-type {\n",
       "        vertical-align: middle;\n",
       "    }\n",
       "\n",
       "    .dataframe tbody tr th {\n",
       "        vertical-align: top;\n",
       "    }\n",
       "\n",
       "    .dataframe thead th {\n",
       "        text-align: right;\n",
       "    }\n",
       "</style>\n",
       "<table border=\"1\" class=\"dataframe\">\n",
       "  <thead>\n",
       "    <tr style=\"text-align: right;\">\n",
       "      <th></th>\n",
       "      <th>team_code</th>\n",
       "      <th>season</th>\n",
       "      <th>country_code</th>\n",
       "      <th>Champion</th>\n",
       "      <th>wins_home</th>\n",
       "      <th>wins_away</th>\n",
       "      <th>average_possession</th>\n",
       "      <th>cards_per_match</th>\n",
       "      <th>clean_sheet_half_time_percentage_home</th>\n",
       "      <th>clean_sheet_percentage</th>\n",
       "      <th>...</th>\n",
       "      <th>shots_on_target</th>\n",
       "      <th>goals_scored_min_0_to_10</th>\n",
       "      <th>goals_scored_min_11_to_20</th>\n",
       "      <th>goals_scored_min_21_to_30</th>\n",
       "      <th>goals_scored_min_31_to_40</th>\n",
       "      <th>goals_scored_min_41_to_50</th>\n",
       "      <th>goals_scored_min_51_to_60</th>\n",
       "      <th>goals_scored_min_61_to_70</th>\n",
       "      <th>goals_scored_min_71_to_80</th>\n",
       "      <th>goals_scored_min_81_to_90</th>\n",
       "    </tr>\n",
       "  </thead>\n",
       "  <tbody>\n",
       "    <tr>\n",
       "      <th>20</th>\n",
       "      <td>21</td>\n",
       "      <td>2019</td>\n",
       "      <td>1</td>\n",
       "      <td>Not</td>\n",
       "      <td>10</td>\n",
       "      <td>4</td>\n",
       "      <td>54</td>\n",
       "      <td>2.53</td>\n",
       "      <td>0.47</td>\n",
       "      <td>0.26</td>\n",
       "      <td>...</td>\n",
       "      <td>189</td>\n",
       "      <td>5</td>\n",
       "      <td>6</td>\n",
       "      <td>6</td>\n",
       "      <td>6</td>\n",
       "      <td>7</td>\n",
       "      <td>7</td>\n",
       "      <td>7</td>\n",
       "      <td>2</td>\n",
       "      <td>10</td>\n",
       "    </tr>\n",
       "    <tr>\n",
       "      <th>21</th>\n",
       "      <td>22</td>\n",
       "      <td>2019</td>\n",
       "      <td>1</td>\n",
       "      <td>Not</td>\n",
       "      <td>12</td>\n",
       "      <td>4</td>\n",
       "      <td>52</td>\n",
       "      <td>2.32</td>\n",
       "      <td>0.53</td>\n",
       "      <td>0.21</td>\n",
       "      <td>...</td>\n",
       "      <td>199</td>\n",
       "      <td>7</td>\n",
       "      <td>3</td>\n",
       "      <td>10</td>\n",
       "      <td>7</td>\n",
       "      <td>8</td>\n",
       "      <td>6</td>\n",
       "      <td>4</td>\n",
       "      <td>5</td>\n",
       "      <td>11</td>\n",
       "    </tr>\n",
       "    <tr>\n",
       "      <th>22</th>\n",
       "      <td>23</td>\n",
       "      <td>2019</td>\n",
       "      <td>1</td>\n",
       "      <td>Champion</td>\n",
       "      <td>15</td>\n",
       "      <td>11</td>\n",
       "      <td>67</td>\n",
       "      <td>1.79</td>\n",
       "      <td>0.68</td>\n",
       "      <td>0.45</td>\n",
       "      <td>...</td>\n",
       "      <td>296</td>\n",
       "      <td>6</td>\n",
       "      <td>8</td>\n",
       "      <td>14</td>\n",
       "      <td>8</td>\n",
       "      <td>16</td>\n",
       "      <td>13</td>\n",
       "      <td>12</td>\n",
       "      <td>7</td>\n",
       "      <td>18</td>\n",
       "    </tr>\n",
       "    <tr>\n",
       "      <th>23</th>\n",
       "      <td>24</td>\n",
       "      <td>2019</td>\n",
       "      <td>1</td>\n",
       "      <td>Not</td>\n",
       "      <td>11</td>\n",
       "      <td>7</td>\n",
       "      <td>58</td>\n",
       "      <td>1.24</td>\n",
       "      <td>0.63</td>\n",
       "      <td>0.34</td>\n",
       "      <td>...</td>\n",
       "      <td>224</td>\n",
       "      <td>1</td>\n",
       "      <td>6</td>\n",
       "      <td>4</td>\n",
       "      <td>8</td>\n",
       "      <td>7</td>\n",
       "      <td>9</td>\n",
       "      <td>9</td>\n",
       "      <td>8</td>\n",
       "      <td>15</td>\n",
       "    </tr>\n",
       "    <tr>\n",
       "      <th>24</th>\n",
       "      <td>25</td>\n",
       "      <td>2019</td>\n",
       "      <td>1</td>\n",
       "      <td>Not</td>\n",
       "      <td>6</td>\n",
       "      <td>5</td>\n",
       "      <td>45</td>\n",
       "      <td>1.74</td>\n",
       "      <td>0.68</td>\n",
       "      <td>0.26</td>\n",
       "      <td>...</td>\n",
       "      <td>154</td>\n",
       "      <td>0</td>\n",
       "      <td>1</td>\n",
       "      <td>3</td>\n",
       "      <td>4</td>\n",
       "      <td>4</td>\n",
       "      <td>4</td>\n",
       "      <td>3</td>\n",
       "      <td>5</td>\n",
       "      <td>7</td>\n",
       "    </tr>\n",
       "    <tr>\n",
       "      <th>...</th>\n",
       "      <td>...</td>\n",
       "      <td>...</td>\n",
       "      <td>...</td>\n",
       "      <td>...</td>\n",
       "      <td>...</td>\n",
       "      <td>...</td>\n",
       "      <td>...</td>\n",
       "      <td>...</td>\n",
       "      <td>...</td>\n",
       "      <td>...</td>\n",
       "      <td>...</td>\n",
       "      <td>...</td>\n",
       "      <td>...</td>\n",
       "      <td>...</td>\n",
       "      <td>...</td>\n",
       "      <td>...</td>\n",
       "      <td>...</td>\n",
       "      <td>...</td>\n",
       "      <td>...</td>\n",
       "      <td>...</td>\n",
       "      <td>...</td>\n",
       "    </tr>\n",
       "    <tr>\n",
       "      <th>1033</th>\n",
       "      <td>1034</td>\n",
       "      <td>2010</td>\n",
       "      <td>5</td>\n",
       "      <td>Not</td>\n",
       "      <td>3</td>\n",
       "      <td>3</td>\n",
       "      <td>0</td>\n",
       "      <td>2.84</td>\n",
       "      <td>0.42</td>\n",
       "      <td>0.08</td>\n",
       "      <td>...</td>\n",
       "      <td>186</td>\n",
       "      <td>8</td>\n",
       "      <td>5</td>\n",
       "      <td>2</td>\n",
       "      <td>2</td>\n",
       "      <td>5</td>\n",
       "      <td>2</td>\n",
       "      <td>3</td>\n",
       "      <td>4</td>\n",
       "      <td>5</td>\n",
       "    </tr>\n",
       "    <tr>\n",
       "      <th>1034</th>\n",
       "      <td>1035</td>\n",
       "      <td>2010</td>\n",
       "      <td>5</td>\n",
       "      <td>Not</td>\n",
       "      <td>9</td>\n",
       "      <td>3</td>\n",
       "      <td>0</td>\n",
       "      <td>2.53</td>\n",
       "      <td>0.63</td>\n",
       "      <td>0.26</td>\n",
       "      <td>...</td>\n",
       "      <td>226</td>\n",
       "      <td>2</td>\n",
       "      <td>4</td>\n",
       "      <td>5</td>\n",
       "      <td>5</td>\n",
       "      <td>5</td>\n",
       "      <td>3</td>\n",
       "      <td>8</td>\n",
       "      <td>3</td>\n",
       "      <td>6</td>\n",
       "    </tr>\n",
       "    <tr>\n",
       "      <th>1035</th>\n",
       "      <td>1036</td>\n",
       "      <td>2010</td>\n",
       "      <td>5</td>\n",
       "      <td>Not</td>\n",
       "      <td>9</td>\n",
       "      <td>3</td>\n",
       "      <td>0</td>\n",
       "      <td>3.58</td>\n",
       "      <td>0.42</td>\n",
       "      <td>0.24</td>\n",
       "      <td>...</td>\n",
       "      <td>214</td>\n",
       "      <td>4</td>\n",
       "      <td>2</td>\n",
       "      <td>0</td>\n",
       "      <td>7</td>\n",
       "      <td>4</td>\n",
       "      <td>9</td>\n",
       "      <td>5</td>\n",
       "      <td>3</td>\n",
       "      <td>6</td>\n",
       "    </tr>\n",
       "    <tr>\n",
       "      <th>1036</th>\n",
       "      <td>1037</td>\n",
       "      <td>2010</td>\n",
       "      <td>5</td>\n",
       "      <td>Not</td>\n",
       "      <td>8</td>\n",
       "      <td>4</td>\n",
       "      <td>0</td>\n",
       "      <td>2.66</td>\n",
       "      <td>0.63</td>\n",
       "      <td>0.24</td>\n",
       "      <td>...</td>\n",
       "      <td>222</td>\n",
       "      <td>1</td>\n",
       "      <td>5</td>\n",
       "      <td>2</td>\n",
       "      <td>7</td>\n",
       "      <td>7</td>\n",
       "      <td>2</td>\n",
       "      <td>4</td>\n",
       "      <td>6</td>\n",
       "      <td>7</td>\n",
       "    </tr>\n",
       "    <tr>\n",
       "      <th>1037</th>\n",
       "      <td>1038</td>\n",
       "      <td>2010</td>\n",
       "      <td>5</td>\n",
       "      <td>Not</td>\n",
       "      <td>7</td>\n",
       "      <td>2</td>\n",
       "      <td>0</td>\n",
       "      <td>2.89</td>\n",
       "      <td>0.53</td>\n",
       "      <td>0.21</td>\n",
       "      <td>...</td>\n",
       "      <td>192</td>\n",
       "      <td>2</td>\n",
       "      <td>2</td>\n",
       "      <td>4</td>\n",
       "      <td>6</td>\n",
       "      <td>5</td>\n",
       "      <td>4</td>\n",
       "      <td>6</td>\n",
       "      <td>2</td>\n",
       "      <td>5</td>\n",
       "    </tr>\n",
       "  </tbody>\n",
       "</table>\n",
       "<p>960 rows × 30 columns</p>\n",
       "</div>"
      ],
      "text/plain": [
       "      team_code  season  country_code  Champion  wins_home  wins_away  \\\n",
       "20           21    2019             1       Not         10          4   \n",
       "21           22    2019             1       Not         12          4   \n",
       "22           23    2019             1  Champion         15         11   \n",
       "23           24    2019             1       Not         11          7   \n",
       "24           25    2019             1       Not          6          5   \n",
       "...         ...     ...           ...       ...        ...        ...   \n",
       "1033       1034    2010             5       Not          3          3   \n",
       "1034       1035    2010             5       Not          9          3   \n",
       "1035       1036    2010             5       Not          9          3   \n",
       "1036       1037    2010             5       Not          8          4   \n",
       "1037       1038    2010             5       Not          7          2   \n",
       "\n",
       "      average_possession  cards_per_match  \\\n",
       "20                    54             2.53   \n",
       "21                    52             2.32   \n",
       "22                    67             1.79   \n",
       "23                    58             1.24   \n",
       "24                    45             1.74   \n",
       "...                  ...              ...   \n",
       "1033                   0             2.84   \n",
       "1034                   0             2.53   \n",
       "1035                   0             3.58   \n",
       "1036                   0             2.66   \n",
       "1037                   0             2.89   \n",
       "\n",
       "      clean_sheet_half_time_percentage_home  clean_sheet_percentage  ...  \\\n",
       "20                                     0.47                    0.26  ...   \n",
       "21                                     0.53                    0.21  ...   \n",
       "22                                     0.68                    0.45  ...   \n",
       "23                                     0.63                    0.34  ...   \n",
       "24                                     0.68                    0.26  ...   \n",
       "...                                     ...                     ...  ...   \n",
       "1033                                   0.42                    0.08  ...   \n",
       "1034                                   0.63                    0.26  ...   \n",
       "1035                                   0.42                    0.24  ...   \n",
       "1036                                   0.63                    0.24  ...   \n",
       "1037                                   0.53                    0.21  ...   \n",
       "\n",
       "      shots_on_target  goals_scored_min_0_to_10  goals_scored_min_11_to_20  \\\n",
       "20                189                         5                          6   \n",
       "21                199                         7                          3   \n",
       "22                296                         6                          8   \n",
       "23                224                         1                          6   \n",
       "24                154                         0                          1   \n",
       "...               ...                       ...                        ...   \n",
       "1033              186                         8                          5   \n",
       "1034              226                         2                          4   \n",
       "1035              214                         4                          2   \n",
       "1036              222                         1                          5   \n",
       "1037              192                         2                          2   \n",
       "\n",
       "      goals_scored_min_21_to_30  goals_scored_min_31_to_40  \\\n",
       "20                            6                          6   \n",
       "21                           10                          7   \n",
       "22                           14                          8   \n",
       "23                            4                          8   \n",
       "24                            3                          4   \n",
       "...                         ...                        ...   \n",
       "1033                          2                          2   \n",
       "1034                          5                          5   \n",
       "1035                          0                          7   \n",
       "1036                          2                          7   \n",
       "1037                          4                          6   \n",
       "\n",
       "      goals_scored_min_41_to_50  goals_scored_min_51_to_60  \\\n",
       "20                            7                          7   \n",
       "21                            8                          6   \n",
       "22                           16                         13   \n",
       "23                            7                          9   \n",
       "24                            4                          4   \n",
       "...                         ...                        ...   \n",
       "1033                          5                          2   \n",
       "1034                          5                          3   \n",
       "1035                          4                          9   \n",
       "1036                          7                          2   \n",
       "1037                          5                          4   \n",
       "\n",
       "      goals_scored_min_61_to_70  goals_scored_min_71_to_80  \\\n",
       "20                            7                          2   \n",
       "21                            4                          5   \n",
       "22                           12                          7   \n",
       "23                            9                          8   \n",
       "24                            3                          5   \n",
       "...                         ...                        ...   \n",
       "1033                          3                          4   \n",
       "1034                          8                          3   \n",
       "1035                          5                          3   \n",
       "1036                          4                          6   \n",
       "1037                          6                          2   \n",
       "\n",
       "      goals_scored_min_81_to_90  \n",
       "20                           10  \n",
       "21                           11  \n",
       "22                           18  \n",
       "23                           15  \n",
       "24                            7  \n",
       "...                         ...  \n",
       "1033                          5  \n",
       "1034                          6  \n",
       "1035                          6  \n",
       "1036                          7  \n",
       "1037                          5  \n",
       "\n",
       "[960 rows x 30 columns]"
      ]
     },
     "execution_count": 10,
     "metadata": {},
     "output_type": "execute_result"
    }
   ],
   "source": [
    "past_soccer_df = soccer_data_ml_df[(soccer_data_ml_df[\"season\"] == 2010) | (soccer_data_ml_df[\"season\"] == 2011) | (soccer_data_ml_df[\"season\"] == 2012) | (soccer_data_ml_df[\"season\"] == 2013) | (soccer_data_ml_df[\"season\"] == 2014) | (soccer_data_ml_df[\"season\"] == 2015) | (soccer_data_ml_df[\"season\"] == 2016) | (soccer_data_ml_df[\"season\"] == 2017) | (soccer_data_ml_df[\"season\"] == 2018) | (soccer_data_ml_df[\"season\"] == 2019)]\n",
    "past_soccer_df     "
   ]
  },
  {
   "cell_type": "code",
   "execution_count": 11,
   "metadata": {},
   "outputs": [],
   "source": [
    "# Current league Position Leaders\n",
    "current_soccer_league_leaders1_df = soccer_data_ml_df[(soccer_data_ml_df[\"season\"] == 2020) & ((soccer_data_ml_df[\"team_code\"] == 2))]\n",
    "current_soccer_league_leaders2_df = soccer_data_ml_df[(soccer_data_ml_df[\"season\"] == 2020) & ((soccer_data_ml_df[\"team_code\"] == 4))]\n",
    "current_soccer_league_leaders3_df = soccer_data_ml_df[(soccer_data_ml_df[\"season\"] == 2020) & ((soccer_data_ml_df[\"team_code\"] == 9))]\n",
    "current_soccer_league_leaders4_df = soccer_data_ml_df[(soccer_data_ml_df[\"season\"] == 2020) & ((soccer_data_ml_df[\"team_code\"] == 11))]\n",
    "current_soccer_league_leaders5_df = soccer_data_ml_df[(soccer_data_ml_df[\"season\"] == 2020) & ((soccer_data_ml_df[\"team_code\"] == 222))]\n",
    "current_soccer_league_leaders6_df = soccer_data_ml_df[(soccer_data_ml_df[\"season\"] == 2020) & ((soccer_data_ml_df[\"team_code\"] == 223))]\n",
    "current_soccer_league_leaders7_df = soccer_data_ml_df[(soccer_data_ml_df[\"season\"] == 2020) & ((soccer_data_ml_df[\"team_code\"] == 229))]\n",
    "current_soccer_league_leaders8_df = soccer_data_ml_df[(soccer_data_ml_df[\"season\"] == 2020) & ((soccer_data_ml_df[\"team_code\"] == 231))]\n",
    "current_soccer_league_leaders9_df = soccer_data_ml_df[(soccer_data_ml_df[\"season\"] == 2020) & ((soccer_data_ml_df[\"team_code\"] == 549))]\n",
    "current_soccer_league_leaders10_df = soccer_data_ml_df[(soccer_data_ml_df[\"season\"] == 2020) & ((soccer_data_ml_df[\"team_code\"] == 553))]\n",
    "current_soccer_league_leaders11_df = soccer_data_ml_df[(soccer_data_ml_df[\"season\"] == 2020) & ((soccer_data_ml_df[\"team_code\"] == 555))]\n",
    "current_soccer_league_leaders12_df = soccer_data_ml_df[(soccer_data_ml_df[\"season\"] == 2020) & ((soccer_data_ml_df[\"team_code\"] == 560))]\n",
    "current_soccer_league_leaders13_df = soccer_data_ml_df[(soccer_data_ml_df[\"season\"] == 2020) & ((soccer_data_ml_df[\"team_code\"] == 780))]\n",
    "current_soccer_league_leaders14_df = soccer_data_ml_df[(soccer_data_ml_df[\"season\"] == 2020) & ((soccer_data_ml_df[\"team_code\"] == 781))]\n",
    "current_soccer_league_leaders15_df = soccer_data_ml_df[(soccer_data_ml_df[\"season\"] == 2020) & ((soccer_data_ml_df[\"team_code\"] == 786))]\n",
    "current_soccer_league_leaders16_df = soccer_data_ml_df[(soccer_data_ml_df[\"season\"] == 2020) & ((soccer_data_ml_df[\"team_code\"] == 793))]\n",
    "current_soccer_league_leaders17_df = soccer_data_ml_df[(soccer_data_ml_df[\"season\"] == 2020) & ((soccer_data_ml_df[\"team_code\"] == 1039))]\n",
    "current_soccer_league_leaders18_df = soccer_data_ml_df[(soccer_data_ml_df[\"season\"] == 2020) & ((soccer_data_ml_df[\"team_code\"] == 1041))]\n",
    "current_soccer_league_leaders19_df = soccer_data_ml_df[(soccer_data_ml_df[\"season\"] == 2020) & ((soccer_data_ml_df[\"team_code\"] == 1043))]\n",
    "current_soccer_league_leaders20_df = soccer_data_ml_df[(soccer_data_ml_df[\"season\"] == 2020) & ((soccer_data_ml_df[\"team_code\"] == 1052))]\n",
    "\n"
   ]
  },
  {
   "cell_type": "markdown",
   "metadata": {},
   "source": [
    "### Split the Data into Training and Testing"
   ]
  },
  {
   "cell_type": "code",
   "execution_count": 12,
   "metadata": {},
   "outputs": [],
   "source": [
    "# Create our features\n",
    "X_train = past_soccer_df.drop(\"Champion\",axis=1)\n",
    "X_test1 = current_soccer_league_leaders1_df.drop(\"Champion\",axis=1)\n",
    "X_test2 = current_soccer_league_leaders2_df.drop(\"Champion\",axis=1)\n",
    "X_test3 = current_soccer_league_leaders3_df.drop(\"Champion\",axis=1)\n",
    "X_test4 = current_soccer_league_leaders4_df.drop(\"Champion\",axis=1)\n",
    "X_test5 = current_soccer_league_leaders5_df.drop(\"Champion\",axis=1)\n",
    "X_test6 = current_soccer_league_leaders6_df.drop(\"Champion\",axis=1)\n",
    "X_test7 = current_soccer_league_leaders7_df.drop(\"Champion\",axis=1)\n",
    "X_test8 = current_soccer_league_leaders8_df.drop(\"Champion\",axis=1)\n",
    "X_test9 = current_soccer_league_leaders9_df.drop(\"Champion\",axis=1)\n",
    "X_test10 = current_soccer_league_leaders10_df.drop(\"Champion\",axis=1)\n",
    "X_test11 = current_soccer_league_leaders11_df.drop(\"Champion\",axis=1)\n",
    "X_test12 = current_soccer_league_leaders12_df.drop(\"Champion\",axis=1)\n",
    "X_test13 = current_soccer_league_leaders13_df.drop(\"Champion\",axis=1)\n",
    "X_test14 = current_soccer_league_leaders14_df.drop(\"Champion\",axis=1)\n",
    "X_test15 = current_soccer_league_leaders15_df.drop(\"Champion\",axis=1)\n",
    "X_test16 = current_soccer_league_leaders16_df.drop(\"Champion\",axis=1)\n",
    "X_test17 = current_soccer_league_leaders17_df.drop(\"Champion\",axis=1)\n",
    "X_test18 = current_soccer_league_leaders18_df.drop(\"Champion\",axis=1)\n",
    "X_test19 = current_soccer_league_leaders19_df.drop(\"Champion\",axis=1)\n",
    "X_test20 = current_soccer_league_leaders20_df.drop(\"Champion\",axis=1)\n",
    "\n",
    "# X = pd.get_dummies(X)\n",
    "\n",
    "# Create our target\n",
    "y_train = past_soccer_df[\"Champion\"]\n",
    "y_test1 = current_soccer_league_leaders1_df[\"Champion\"]\n",
    "y_test2 = current_soccer_league_leaders2_df[\"Champion\"]\n",
    "y_test3 = current_soccer_league_leaders3_df[\"Champion\"]\n",
    "y_test4 = current_soccer_league_leaders4_df[\"Champion\"]\n",
    "y_test5 = current_soccer_league_leaders5_df[\"Champion\"]\n",
    "y_test6 = current_soccer_league_leaders6_df[\"Champion\"]\n",
    "y_test7 = current_soccer_league_leaders7_df[\"Champion\"]\n",
    "y_test8 = current_soccer_league_leaders8_df[\"Champion\"]\n",
    "y_test9 = current_soccer_league_leaders9_df[\"Champion\"]\n",
    "y_test10 = current_soccer_league_leaders10_df[\"Champion\"]\n",
    "y_test11 = current_soccer_league_leaders11_df[\"Champion\"]\n",
    "y_test12 = current_soccer_league_leaders12_df[\"Champion\"]\n",
    "y_test13 = current_soccer_league_leaders13_df[\"Champion\"]\n",
    "y_test14 = current_soccer_league_leaders14_df[\"Champion\"]\n",
    "y_test15 = current_soccer_league_leaders15_df[\"Champion\"]\n",
    "y_test16 = current_soccer_league_leaders16_df[\"Champion\"]\n",
    "y_test17 = current_soccer_league_leaders17_df[\"Champion\"]\n",
    "y_test18 = current_soccer_league_leaders18_df[\"Champion\"]\n",
    "y_test19 = current_soccer_league_leaders19_df[\"Champion\"]\n",
    "y_test20 = current_soccer_league_leaders20_df[\"Champion\"]"
   ]
  },
  {
   "cell_type": "markdown",
   "metadata": {},
   "source": [
    "### Balanced Random Forest Classifier"
   ]
  },
  {
   "cell_type": "code",
   "execution_count": 13,
   "metadata": {},
   "outputs": [],
   "source": [
    "# Resample the training data with the BalancedRandomForestClassifier\n",
    "from imblearn.ensemble import BalancedRandomForestClassifier\n",
    "rf = BalancedRandomForestClassifier(n_estimators = 40, random_state=77)\n",
    "rf = rf.fit(X_train, y_train)"
   ]
  },
  {
   "cell_type": "markdown",
   "metadata": {},
   "source": [
    "### Tottenham Hotspur"
   ]
  },
  {
   "cell_type": "code",
   "execution_count": 14,
   "metadata": {},
   "outputs": [
    {
     "data": {
      "text/plain": [
       "1.0"
      ]
     },
     "execution_count": 14,
     "metadata": {},
     "output_type": "execute_result"
    }
   ],
   "source": [
    "# Calculated the balanced accuracy score\n",
    "from sklearn.metrics import balanced_accuracy_score\n",
    "y_pred1 = rf.predict(X_test1)\n",
    "balanced_accuracy_score(y_test1, y_pred1)"
   ]
  },
  {
   "cell_type": "code",
   "execution_count": 15,
   "metadata": {},
   "outputs": [
    {
     "data": {
      "text/plain": [
       "array([[1]], dtype=int64)"
      ]
     },
     "execution_count": 15,
     "metadata": {},
     "output_type": "execute_result"
    }
   ],
   "source": [
    "# Display the confusion matrix\n",
    "from sklearn.metrics import confusion_matrix\n",
    "confusion_matrix(y_test1, y_pred1)"
   ]
  },
  {
   "cell_type": "code",
   "execution_count": 16,
   "metadata": {},
   "outputs": [
    {
     "name": "stdout",
     "output_type": "stream",
     "text": [
      "                   pre       rec       spe        f1       geo       iba       sup\n",
      "\n",
      "   Champion       1.00      1.00      0.00      1.00      0.00      0.00         1\n",
      "\n",
      "avg / total       1.00      1.00      0.00      1.00      0.00      0.00         1\n",
      "\n"
     ]
    }
   ],
   "source": [
    "# Print the imbalanced classification report\n",
    "print(classification_report_imbalanced(y_test1, y_pred1))"
   ]
  },
  {
   "cell_type": "markdown",
   "metadata": {},
   "source": [
    "### Leicester City FC"
   ]
  },
  {
   "cell_type": "code",
   "execution_count": 17,
   "metadata": {},
   "outputs": [
    {
     "data": {
      "text/plain": [
       "0.0"
      ]
     },
     "execution_count": 17,
     "metadata": {},
     "output_type": "execute_result"
    }
   ],
   "source": [
    "# Calculated the balanced accuracy score\n",
    "from sklearn.metrics import balanced_accuracy_score\n",
    "y_pred2 = rf.predict(X_test2)\n",
    "balanced_accuracy_score(y_test2, y_pred2)"
   ]
  },
  {
   "cell_type": "code",
   "execution_count": 18,
   "metadata": {},
   "outputs": [
    {
     "data": {
      "text/plain": [
       "array([[0, 1],\n",
       "       [0, 0]], dtype=int64)"
      ]
     },
     "execution_count": 18,
     "metadata": {},
     "output_type": "execute_result"
    }
   ],
   "source": [
    "# Display the confusion matrix\n",
    "from sklearn.metrics import confusion_matrix\n",
    "confusion_matrix(y_test2, y_pred2)"
   ]
  },
  {
   "cell_type": "code",
   "execution_count": 19,
   "metadata": {},
   "outputs": [
    {
     "name": "stdout",
     "output_type": "stream",
     "text": [
      "                   pre       rec       spe        f1       geo       iba       sup\n",
      "\n",
      "   Champion       0.00      0.00      0.00      0.00      0.00      0.00       1.0\n",
      "        Not       0.00      0.00      0.00      0.00      0.00      0.00       0.0\n",
      "\n",
      "avg / total       0.00      0.00      0.00      0.00      0.00      0.00       1.0\n",
      "\n"
     ]
    }
   ],
   "source": [
    "# Print the imbalanced classification report\n",
    "print(classification_report_imbalanced(y_test2, y_pred2))"
   ]
  },
  {
   "cell_type": "markdown",
   "metadata": {},
   "source": [
    "### Southampton FC"
   ]
  },
  {
   "cell_type": "code",
   "execution_count": 20,
   "metadata": {},
   "outputs": [
    {
     "data": {
      "text/plain": [
       "1.0"
      ]
     },
     "execution_count": 20,
     "metadata": {},
     "output_type": "execute_result"
    }
   ],
   "source": [
    "# Calculated the balanced accuracy score\n",
    "from sklearn.metrics import balanced_accuracy_score\n",
    "y_pred3 = rf.predict(X_test3)\n",
    "balanced_accuracy_score(y_test3, y_pred3)"
   ]
  },
  {
   "cell_type": "code",
   "execution_count": 21,
   "metadata": {},
   "outputs": [
    {
     "data": {
      "text/plain": [
       "array([[1]], dtype=int64)"
      ]
     },
     "execution_count": 21,
     "metadata": {},
     "output_type": "execute_result"
    }
   ],
   "source": [
    "# Display the confusion matrix\n",
    "from sklearn.metrics import confusion_matrix\n",
    "confusion_matrix(y_test3, y_pred3)"
   ]
  },
  {
   "cell_type": "code",
   "execution_count": 22,
   "metadata": {},
   "outputs": [
    {
     "name": "stdout",
     "output_type": "stream",
     "text": [
      "                   pre       rec       spe        f1       geo       iba       sup\n",
      "\n",
      "   Champion       1.00      1.00      0.00      1.00      0.00      0.00         1\n",
      "\n",
      "avg / total       1.00      1.00      0.00      1.00      0.00      0.00         1\n",
      "\n"
     ]
    }
   ],
   "source": [
    "# Print the imbalanced classification report\n",
    "print(classification_report_imbalanced(y_test3, y_pred3))"
   ]
  },
  {
   "cell_type": "markdown",
   "metadata": {},
   "source": [
    "### Liverpool FC"
   ]
  },
  {
   "cell_type": "code",
   "execution_count": 23,
   "metadata": {},
   "outputs": [
    {
     "data": {
      "text/plain": [
       "1.0"
      ]
     },
     "execution_count": 23,
     "metadata": {},
     "output_type": "execute_result"
    }
   ],
   "source": [
    "# Calculated the balanced accuracy score\n",
    "from sklearn.metrics import balanced_accuracy_score\n",
    "y_pred4 = rf.predict(X_test4)\n",
    "balanced_accuracy_score(y_test4, y_pred4)"
   ]
  },
  {
   "cell_type": "code",
   "execution_count": 24,
   "metadata": {},
   "outputs": [
    {
     "data": {
      "text/plain": [
       "array([[1]], dtype=int64)"
      ]
     },
     "execution_count": 24,
     "metadata": {},
     "output_type": "execute_result"
    }
   ],
   "source": [
    "# Display the confusion matrix\n",
    "from sklearn.metrics import confusion_matrix\n",
    "confusion_matrix(y_test4, y_pred4)"
   ]
  },
  {
   "cell_type": "code",
   "execution_count": 25,
   "metadata": {},
   "outputs": [
    {
     "name": "stdout",
     "output_type": "stream",
     "text": [
      "                   pre       rec       spe        f1       geo       iba       sup\n",
      "\n",
      "   Champion       1.00      1.00      0.00      1.00      0.00      0.00         1\n",
      "\n",
      "avg / total       1.00      1.00      0.00      1.00      0.00      0.00         1\n",
      "\n"
     ]
    }
   ],
   "source": [
    "# Print the imbalanced classification report\n",
    "print(classification_report_imbalanced(y_test4, y_pred4))"
   ]
  },
  {
   "cell_type": "markdown",
   "metadata": {},
   "source": [
    "### Olympique Lyonnais"
   ]
  },
  {
   "cell_type": "code",
   "execution_count": 26,
   "metadata": {},
   "outputs": [
    {
     "data": {
      "text/plain": [
       "1.0"
      ]
     },
     "execution_count": 26,
     "metadata": {},
     "output_type": "execute_result"
    }
   ],
   "source": [
    "# Calculated the balanced accuracy score\n",
    "from sklearn.metrics import balanced_accuracy_score\n",
    "y_pred5 = rf.predict(X_test5)\n",
    "balanced_accuracy_score(y_test5, y_pred5)"
   ]
  },
  {
   "cell_type": "code",
   "execution_count": 27,
   "metadata": {},
   "outputs": [
    {
     "data": {
      "text/plain": [
       "array([[1]], dtype=int64)"
      ]
     },
     "execution_count": 27,
     "metadata": {},
     "output_type": "execute_result"
    }
   ],
   "source": [
    "# Display the confusion matrix\n",
    "from sklearn.metrics import confusion_matrix\n",
    "confusion_matrix(y_test5, y_pred5)"
   ]
  },
  {
   "cell_type": "code",
   "execution_count": 28,
   "metadata": {},
   "outputs": [
    {
     "name": "stdout",
     "output_type": "stream",
     "text": [
      "                   pre       rec       spe        f1       geo       iba       sup\n",
      "\n",
      "   Champion       1.00      1.00      0.00      1.00      0.00      0.00         1\n",
      "\n",
      "avg / total       1.00      1.00      0.00      1.00      0.00      0.00         1\n",
      "\n"
     ]
    }
   ],
   "source": [
    "# Print the imbalanced classification report\n",
    "print(classification_report_imbalanced(y_test5, y_pred5))"
   ]
  },
  {
   "cell_type": "markdown",
   "metadata": {},
   "source": [
    "### Paris Saint-Germain FC"
   ]
  },
  {
   "cell_type": "code",
   "execution_count": 29,
   "metadata": {},
   "outputs": [
    {
     "data": {
      "text/plain": [
       "1.0"
      ]
     },
     "execution_count": 29,
     "metadata": {},
     "output_type": "execute_result"
    }
   ],
   "source": [
    "# Calculated the balanced accuracy score\n",
    "from sklearn.metrics import balanced_accuracy_score\n",
    "y_pred6 = rf.predict(X_test6)\n",
    "balanced_accuracy_score(y_test6, y_pred6)"
   ]
  },
  {
   "cell_type": "code",
   "execution_count": 30,
   "metadata": {},
   "outputs": [
    {
     "data": {
      "text/plain": [
       "array([[1]], dtype=int64)"
      ]
     },
     "execution_count": 30,
     "metadata": {},
     "output_type": "execute_result"
    }
   ],
   "source": [
    "# Display the confusion matrix\n",
    "from sklearn.metrics import confusion_matrix\n",
    "confusion_matrix(y_test6, y_pred6)"
   ]
  },
  {
   "cell_type": "code",
   "execution_count": 31,
   "metadata": {},
   "outputs": [
    {
     "name": "stdout",
     "output_type": "stream",
     "text": [
      "                   pre       rec       spe        f1       geo       iba       sup\n",
      "\n",
      "   Champion       1.00      1.00      0.00      1.00      0.00      0.00         1\n",
      "\n",
      "avg / total       1.00      1.00      0.00      1.00      0.00      0.00         1\n",
      "\n"
     ]
    }
   ],
   "source": [
    "# Print the imbalanced classification report\n",
    "print(classification_report_imbalanced(y_test6, y_pred6))"
   ]
  },
  {
   "cell_type": "markdown",
   "metadata": {},
   "source": [
    "### Lille OSC M'tropole"
   ]
  },
  {
   "cell_type": "code",
   "execution_count": 32,
   "metadata": {},
   "outputs": [
    {
     "data": {
      "text/plain": [
       "1.0"
      ]
     },
     "execution_count": 32,
     "metadata": {},
     "output_type": "execute_result"
    }
   ],
   "source": [
    "# Calculated the balanced accuracy score\n",
    "from sklearn.metrics import balanced_accuracy_score\n",
    "y_pred7 = rf.predict(X_test7)\n",
    "balanced_accuracy_score(y_test7, y_pred7)"
   ]
  },
  {
   "cell_type": "code",
   "execution_count": 33,
   "metadata": {},
   "outputs": [
    {
     "data": {
      "text/plain": [
       "array([[1]], dtype=int64)"
      ]
     },
     "execution_count": 33,
     "metadata": {},
     "output_type": "execute_result"
    }
   ],
   "source": [
    "# Display the confusion matrix\n",
    "from sklearn.metrics import confusion_matrix\n",
    "confusion_matrix(y_test7, y_pred7)"
   ]
  },
  {
   "cell_type": "code",
   "execution_count": 34,
   "metadata": {},
   "outputs": [
    {
     "name": "stdout",
     "output_type": "stream",
     "text": [
      "                   pre       rec       spe        f1       geo       iba       sup\n",
      "\n",
      "   Champion       1.00      1.00      0.00      1.00      0.00      0.00         1\n",
      "\n",
      "avg / total       1.00      1.00      0.00      1.00      0.00      0.00         1\n",
      "\n"
     ]
    }
   ],
   "source": [
    "# Print the imbalanced classification report\n",
    "print(classification_report_imbalanced(y_test7, y_pred7))"
   ]
  },
  {
   "cell_type": "markdown",
   "metadata": {},
   "source": [
    "### Olympique de Marseille"
   ]
  },
  {
   "cell_type": "code",
   "execution_count": 35,
   "metadata": {},
   "outputs": [
    {
     "data": {
      "text/plain": [
       "1.0"
      ]
     },
     "execution_count": 35,
     "metadata": {},
     "output_type": "execute_result"
    }
   ],
   "source": [
    "# Calculated the balanced accuracy score\n",
    "from sklearn.metrics import balanced_accuracy_score\n",
    "y_pred8 = rf.predict(X_test8)\n",
    "balanced_accuracy_score(y_test8, y_pred8)"
   ]
  },
  {
   "cell_type": "code",
   "execution_count": 36,
   "metadata": {},
   "outputs": [
    {
     "data": {
      "text/plain": [
       "array([[1]], dtype=int64)"
      ]
     },
     "execution_count": 36,
     "metadata": {},
     "output_type": "execute_result"
    }
   ],
   "source": [
    "# Display the confusion matrix\n",
    "from sklearn.metrics import confusion_matrix\n",
    "confusion_matrix(y_test8, y_pred8)"
   ]
  },
  {
   "cell_type": "code",
   "execution_count": 37,
   "metadata": {},
   "outputs": [
    {
     "name": "stdout",
     "output_type": "stream",
     "text": [
      "                   pre       rec       spe        f1       geo       iba       sup\n",
      "\n",
      "   Champion       1.00      1.00      0.00      1.00      0.00      0.00         1\n",
      "\n",
      "avg / total       1.00      1.00      0.00      1.00      0.00      0.00         1\n",
      "\n"
     ]
    }
   ],
   "source": [
    "# Print the imbalanced classification report\n",
    "print(classification_report_imbalanced(y_test8, y_pred8))"
   ]
  },
  {
   "cell_type": "markdown",
   "metadata": {},
   "source": [
    "### BVB 09 Borussia Dortmund"
   ]
  },
  {
   "cell_type": "code",
   "execution_count": 38,
   "metadata": {},
   "outputs": [
    {
     "data": {
      "text/plain": [
       "0.0"
      ]
     },
     "execution_count": 38,
     "metadata": {},
     "output_type": "execute_result"
    }
   ],
   "source": [
    "# Calculated the balanced accuracy score\n",
    "from sklearn.metrics import balanced_accuracy_score\n",
    "y_pred9 = rf.predict(X_test9)\n",
    "balanced_accuracy_score(y_test9, y_pred9)"
   ]
  },
  {
   "cell_type": "code",
   "execution_count": 39,
   "metadata": {},
   "outputs": [
    {
     "data": {
      "text/plain": [
       "array([[0, 1],\n",
       "       [0, 0]], dtype=int64)"
      ]
     },
     "execution_count": 39,
     "metadata": {},
     "output_type": "execute_result"
    }
   ],
   "source": [
    "# Display the confusion matrix\n",
    "from sklearn.metrics import confusion_matrix\n",
    "confusion_matrix(y_test9, y_pred9)"
   ]
  },
  {
   "cell_type": "code",
   "execution_count": 40,
   "metadata": {},
   "outputs": [
    {
     "name": "stdout",
     "output_type": "stream",
     "text": [
      "                   pre       rec       spe        f1       geo       iba       sup\n",
      "\n",
      "   Champion       0.00      0.00      0.00      0.00      0.00      0.00       1.0\n",
      "        Not       0.00      0.00      0.00      0.00      0.00      0.00       0.0\n",
      "\n",
      "avg / total       0.00      0.00      0.00      0.00      0.00      0.00       1.0\n",
      "\n"
     ]
    }
   ],
   "source": [
    "# Print the imbalanced classification report\n",
    "print(classification_report_imbalanced(y_test9, y_pred9))"
   ]
  },
  {
   "cell_type": "markdown",
   "metadata": {},
   "source": [
    "### FC Bayern Munchen"
   ]
  },
  {
   "cell_type": "code",
   "execution_count": 41,
   "metadata": {},
   "outputs": [
    {
     "data": {
      "text/plain": [
       "0.0"
      ]
     },
     "execution_count": 41,
     "metadata": {},
     "output_type": "execute_result"
    }
   ],
   "source": [
    "# Calculated the balanced accuracy score\n",
    "from sklearn.metrics import balanced_accuracy_score\n",
    "y_pred10 = rf.predict(X_test10)\n",
    "balanced_accuracy_score(y_test10, y_pred10)"
   ]
  },
  {
   "cell_type": "code",
   "execution_count": 42,
   "metadata": {},
   "outputs": [
    {
     "data": {
      "text/plain": [
       "array([[0, 1],\n",
       "       [0, 0]], dtype=int64)"
      ]
     },
     "execution_count": 42,
     "metadata": {},
     "output_type": "execute_result"
    }
   ],
   "source": [
    "# Display the confusion matrix\n",
    "from sklearn.metrics import confusion_matrix\n",
    "confusion_matrix(y_test10, y_pred10)"
   ]
  },
  {
   "cell_type": "code",
   "execution_count": 43,
   "metadata": {},
   "outputs": [
    {
     "name": "stdout",
     "output_type": "stream",
     "text": [
      "                   pre       rec       spe        f1       geo       iba       sup\n",
      "\n",
      "   Champion       0.00      0.00      0.00      0.00      0.00      0.00       1.0\n",
      "        Not       0.00      0.00      0.00      0.00      0.00      0.00       0.0\n",
      "\n",
      "avg / total       0.00      0.00      0.00      0.00      0.00      0.00       1.0\n",
      "\n"
     ]
    }
   ],
   "source": [
    "# Print the imbalanced classification report\n",
    "print(classification_report_imbalanced(y_test10, y_pred10))"
   ]
  },
  {
   "cell_type": "markdown",
   "metadata": {},
   "source": [
    "### Bayer 04 Leverkusen"
   ]
  },
  {
   "cell_type": "code",
   "execution_count": 44,
   "metadata": {},
   "outputs": [
    {
     "data": {
      "text/plain": [
       "1.0"
      ]
     },
     "execution_count": 44,
     "metadata": {},
     "output_type": "execute_result"
    }
   ],
   "source": [
    "# Calculated the balanced accuracy score\n",
    "from sklearn.metrics import balanced_accuracy_score\n",
    "y_pred11 = rf.predict(X_test11)\n",
    "balanced_accuracy_score(y_test11, y_pred11)"
   ]
  },
  {
   "cell_type": "code",
   "execution_count": 45,
   "metadata": {},
   "outputs": [
    {
     "data": {
      "text/plain": [
       "array([[1]], dtype=int64)"
      ]
     },
     "execution_count": 45,
     "metadata": {},
     "output_type": "execute_result"
    }
   ],
   "source": [
    "# Display the confusion matrix\n",
    "from sklearn.metrics import confusion_matrix\n",
    "confusion_matrix(y_test11, y_pred11)"
   ]
  },
  {
   "cell_type": "code",
   "execution_count": 46,
   "metadata": {},
   "outputs": [
    {
     "name": "stdout",
     "output_type": "stream",
     "text": [
      "                   pre       rec       spe        f1       geo       iba       sup\n",
      "\n",
      "   Champion       1.00      1.00      0.00      1.00      0.00      0.00         1\n",
      "\n",
      "avg / total       1.00      1.00      0.00      1.00      0.00      0.00         1\n",
      "\n"
     ]
    }
   ],
   "source": [
    "# Print the imbalanced classification report\n",
    "print(classification_report_imbalanced(y_test11, y_pred11))"
   ]
  },
  {
   "cell_type": "markdown",
   "metadata": {},
   "source": [
    "### Rasen Ballsport Leipzig"
   ]
  },
  {
   "cell_type": "code",
   "execution_count": 47,
   "metadata": {},
   "outputs": [
    {
     "data": {
      "text/plain": [
       "1.0"
      ]
     },
     "execution_count": 47,
     "metadata": {},
     "output_type": "execute_result"
    }
   ],
   "source": [
    "# Calculated the balanced accuracy score\n",
    "from sklearn.metrics import balanced_accuracy_score\n",
    "y_pred12 = rf.predict(X_test12)\n",
    "balanced_accuracy_score(y_test12, y_pred12)"
   ]
  },
  {
   "cell_type": "code",
   "execution_count": 48,
   "metadata": {},
   "outputs": [
    {
     "data": {
      "text/plain": [
       "array([[1]], dtype=int64)"
      ]
     },
     "execution_count": 48,
     "metadata": {},
     "output_type": "execute_result"
    }
   ],
   "source": [
    "# Display the confusion matrix\n",
    "from sklearn.metrics import confusion_matrix\n",
    "confusion_matrix(y_test12, y_pred12)"
   ]
  },
  {
   "cell_type": "code",
   "execution_count": 49,
   "metadata": {},
   "outputs": [
    {
     "name": "stdout",
     "output_type": "stream",
     "text": [
      "                   pre       rec       spe        f1       geo       iba       sup\n",
      "\n",
      "   Champion       1.00      1.00      0.00      1.00      0.00      0.00         1\n",
      "\n",
      "avg / total       1.00      1.00      0.00      1.00      0.00      0.00         1\n",
      "\n"
     ]
    }
   ],
   "source": [
    "# Print the imbalanced classification report\n",
    "print(classification_report_imbalanced(y_test12, y_pred12))"
   ]
  },
  {
   "cell_type": "markdown",
   "metadata": {},
   "source": [
    "### Juventus FC"
   ]
  },
  {
   "cell_type": "code",
   "execution_count": 50,
   "metadata": {},
   "outputs": [
    {
     "data": {
      "text/plain": [
       "1.0"
      ]
     },
     "execution_count": 50,
     "metadata": {},
     "output_type": "execute_result"
    }
   ],
   "source": [
    "# Calculated the balanced accuracy score\n",
    "from sklearn.metrics import balanced_accuracy_score\n",
    "y_pred13 = rf.predict(X_test13)\n",
    "balanced_accuracy_score(y_test13, y_pred13)"
   ]
  },
  {
   "cell_type": "code",
   "execution_count": 51,
   "metadata": {},
   "outputs": [
    {
     "data": {
      "text/plain": [
       "array([[1]], dtype=int64)"
      ]
     },
     "execution_count": 51,
     "metadata": {},
     "output_type": "execute_result"
    }
   ],
   "source": [
    "# Display the confusion matrix\n",
    "from sklearn.metrics import confusion_matrix\n",
    "confusion_matrix(y_test13, y_pred13)"
   ]
  },
  {
   "cell_type": "code",
   "execution_count": 52,
   "metadata": {},
   "outputs": [
    {
     "name": "stdout",
     "output_type": "stream",
     "text": [
      "                   pre       rec       spe        f1       geo       iba       sup\n",
      "\n",
      "   Champion       1.00      1.00      0.00      1.00      0.00      0.00         1\n",
      "\n",
      "avg / total       1.00      1.00      0.00      1.00      0.00      0.00         1\n",
      "\n"
     ]
    }
   ],
   "source": [
    "# Print the imbalanced classification report\n",
    "print(classification_report_imbalanced(y_test13, y_pred13))"
   ]
  },
  {
   "attachments": {},
   "cell_type": "markdown",
   "metadata": {},
   "source": [
    "### AS Roma"
   ]
  },
  {
   "cell_type": "code",
   "execution_count": 53,
   "metadata": {},
   "outputs": [
    {
     "data": {
      "text/plain": [
       "0.0"
      ]
     },
     "execution_count": 53,
     "metadata": {},
     "output_type": "execute_result"
    }
   ],
   "source": [
    "# Calculated the balanced accuracy score\n",
    "from sklearn.metrics import balanced_accuracy_score\n",
    "y_pred14 = rf.predict(X_test14)\n",
    "balanced_accuracy_score(y_test14, y_pred14)"
   ]
  },
  {
   "cell_type": "code",
   "execution_count": 54,
   "metadata": {},
   "outputs": [
    {
     "data": {
      "text/plain": [
       "array([[0, 1],\n",
       "       [0, 0]], dtype=int64)"
      ]
     },
     "execution_count": 54,
     "metadata": {},
     "output_type": "execute_result"
    }
   ],
   "source": [
    "# Display the confusion matrix\n",
    "from sklearn.metrics import confusion_matrix\n",
    "confusion_matrix(y_test14, y_pred14)"
   ]
  },
  {
   "cell_type": "code",
   "execution_count": 55,
   "metadata": {},
   "outputs": [
    {
     "name": "stdout",
     "output_type": "stream",
     "text": [
      "                   pre       rec       spe        f1       geo       iba       sup\n",
      "\n",
      "   Champion       0.00      0.00      0.00      0.00      0.00      0.00       1.0\n",
      "        Not       0.00      0.00      0.00      0.00      0.00      0.00       0.0\n",
      "\n",
      "avg / total       0.00      0.00      0.00      0.00      0.00      0.00       1.0\n",
      "\n"
     ]
    }
   ],
   "source": [
    "# Print the imbalanced classification report\n",
    "print(classification_report_imbalanced(y_test14, y_pred14))"
   ]
  },
  {
   "cell_type": "markdown",
   "metadata": {},
   "source": [
    "### AC Milan"
   ]
  },
  {
   "cell_type": "code",
   "execution_count": 56,
   "metadata": {},
   "outputs": [
    {
     "data": {
      "text/plain": [
       "1.0"
      ]
     },
     "execution_count": 56,
     "metadata": {},
     "output_type": "execute_result"
    }
   ],
   "source": [
    "# Calculated the balanced accuracy score\n",
    "from sklearn.metrics import balanced_accuracy_score\n",
    "y_pred15 = rf.predict(X_test15)\n",
    "balanced_accuracy_score(y_test15, y_pred15)"
   ]
  },
  {
   "cell_type": "code",
   "execution_count": 57,
   "metadata": {},
   "outputs": [
    {
     "data": {
      "text/plain": [
       "array([[1]], dtype=int64)"
      ]
     },
     "execution_count": 57,
     "metadata": {},
     "output_type": "execute_result"
    }
   ],
   "source": [
    "# Display the confusion matrix\n",
    "from sklearn.metrics import confusion_matrix\n",
    "confusion_matrix(y_test15, y_pred15)"
   ]
  },
  {
   "cell_type": "code",
   "execution_count": 58,
   "metadata": {},
   "outputs": [
    {
     "name": "stdout",
     "output_type": "stream",
     "text": [
      "                   pre       rec       spe        f1       geo       iba       sup\n",
      "\n",
      "   Champion       1.00      1.00      0.00      1.00      0.00      0.00         1\n",
      "\n",
      "avg / total       1.00      1.00      0.00      1.00      0.00      0.00         1\n",
      "\n"
     ]
    }
   ],
   "source": [
    "# Print the imbalanced classification report\n",
    "print(classification_report_imbalanced(y_test15, y_pred15))"
   ]
  },
  {
   "cell_type": "markdown",
   "metadata": {},
   "source": [
    "### FC Internazionale Milano"
   ]
  },
  {
   "cell_type": "code",
   "execution_count": 59,
   "metadata": {},
   "outputs": [
    {
     "data": {
      "text/plain": [
       "0.0"
      ]
     },
     "execution_count": 59,
     "metadata": {},
     "output_type": "execute_result"
    }
   ],
   "source": [
    "# Calculated the balanced accuracy score\n",
    "from sklearn.metrics import balanced_accuracy_score\n",
    "y_pred16 = rf.predict(X_test16)\n",
    "balanced_accuracy_score(y_test16, y_pred16)"
   ]
  },
  {
   "cell_type": "code",
   "execution_count": 60,
   "metadata": {},
   "outputs": [
    {
     "data": {
      "text/plain": [
       "array([[0, 1],\n",
       "       [0, 0]], dtype=int64)"
      ]
     },
     "execution_count": 60,
     "metadata": {},
     "output_type": "execute_result"
    }
   ],
   "source": [
    "# Display the confusion matrix\n",
    "from sklearn.metrics import confusion_matrix\n",
    "confusion_matrix(y_test16, y_pred16)"
   ]
  },
  {
   "cell_type": "code",
   "execution_count": 61,
   "metadata": {},
   "outputs": [
    {
     "name": "stdout",
     "output_type": "stream",
     "text": [
      "                   pre       rec       spe        f1       geo       iba       sup\n",
      "\n",
      "   Champion       0.00      0.00      0.00      0.00      0.00      0.00       1.0\n",
      "        Not       0.00      0.00      0.00      0.00      0.00      0.00       0.0\n",
      "\n",
      "avg / total       0.00      0.00      0.00      0.00      0.00      0.00       1.0\n",
      "\n"
     ]
    }
   ],
   "source": [
    "# Print the imbalanced classification report\n",
    "print(classification_report_imbalanced(y_test16, y_pred16))"
   ]
  },
  {
   "cell_type": "markdown",
   "metadata": {},
   "source": [
    "### Villarreal CF"
   ]
  },
  {
   "cell_type": "code",
   "execution_count": 62,
   "metadata": {},
   "outputs": [
    {
     "data": {
      "text/plain": [
       "0.0"
      ]
     },
     "execution_count": 62,
     "metadata": {},
     "output_type": "execute_result"
    }
   ],
   "source": [
    "# Calculated the balanced accuracy score\n",
    "from sklearn.metrics import balanced_accuracy_score\n",
    "y_pred17 = rf.predict(X_test17)\n",
    "balanced_accuracy_score(y_test17, y_pred17)"
   ]
  },
  {
   "cell_type": "code",
   "execution_count": 63,
   "metadata": {},
   "outputs": [
    {
     "data": {
      "text/plain": [
       "array([[0, 1],\n",
       "       [0, 0]], dtype=int64)"
      ]
     },
     "execution_count": 63,
     "metadata": {},
     "output_type": "execute_result"
    }
   ],
   "source": [
    "# Display the confusion matrix\n",
    "from sklearn.metrics import confusion_matrix\n",
    "confusion_matrix(y_test17, y_pred17)"
   ]
  },
  {
   "cell_type": "code",
   "execution_count": 64,
   "metadata": {},
   "outputs": [
    {
     "name": "stdout",
     "output_type": "stream",
     "text": [
      "                   pre       rec       spe        f1       geo       iba       sup\n",
      "\n",
      "   Champion       0.00      0.00      0.00      0.00      0.00      0.00       1.0\n",
      "        Not       0.00      0.00      0.00      0.00      0.00      0.00       0.0\n",
      "\n",
      "avg / total       0.00      0.00      0.00      0.00      0.00      0.00       1.0\n",
      "\n"
     ]
    }
   ],
   "source": [
    "# Print the imbalanced classification report\n",
    "print(classification_report_imbalanced(y_test17, y_pred17))"
   ]
  },
  {
   "cell_type": "markdown",
   "metadata": {},
   "source": [
    "### Real Madrid CF"
   ]
  },
  {
   "cell_type": "code",
   "execution_count": 65,
   "metadata": {},
   "outputs": [
    {
     "data": {
      "text/plain": [
       "1.0"
      ]
     },
     "execution_count": 65,
     "metadata": {},
     "output_type": "execute_result"
    }
   ],
   "source": [
    "# Calculated the balanced accuracy score\n",
    "from sklearn.metrics import balanced_accuracy_score\n",
    "y_pred18 = rf.predict(X_test18)\n",
    "balanced_accuracy_score(y_test18, y_pred18)"
   ]
  },
  {
   "cell_type": "code",
   "execution_count": 66,
   "metadata": {},
   "outputs": [
    {
     "data": {
      "text/plain": [
       "array([[1]], dtype=int64)"
      ]
     },
     "execution_count": 66,
     "metadata": {},
     "output_type": "execute_result"
    }
   ],
   "source": [
    "# Display the confusion matrix\n",
    "from sklearn.metrics import confusion_matrix\n",
    "confusion_matrix(y_test18, y_pred18)"
   ]
  },
  {
   "cell_type": "code",
   "execution_count": 67,
   "metadata": {},
   "outputs": [
    {
     "name": "stdout",
     "output_type": "stream",
     "text": [
      "                   pre       rec       spe        f1       geo       iba       sup\n",
      "\n",
      "   Champion       1.00      1.00      0.00      1.00      0.00      0.00         1\n",
      "\n",
      "avg / total       1.00      1.00      0.00      1.00      0.00      0.00         1\n",
      "\n"
     ]
    }
   ],
   "source": [
    "# Print the imbalanced classification report\n",
    "print(classification_report_imbalanced(y_test18, y_pred18))"
   ]
  },
  {
   "cell_type": "markdown",
   "metadata": {},
   "source": [
    "### Club Atl??tico de Madrid"
   ]
  },
  {
   "cell_type": "code",
   "execution_count": 68,
   "metadata": {},
   "outputs": [
    {
     "data": {
      "text/plain": [
       "1.0"
      ]
     },
     "execution_count": 68,
     "metadata": {},
     "output_type": "execute_result"
    }
   ],
   "source": [
    "# Calculated the balanced accuracy score\n",
    "from sklearn.metrics import balanced_accuracy_score\n",
    "y_pred19 = rf.predict(X_test19)\n",
    "balanced_accuracy_score(y_test19, y_pred19)"
   ]
  },
  {
   "cell_type": "code",
   "execution_count": 69,
   "metadata": {},
   "outputs": [
    {
     "data": {
      "text/plain": [
       "array([[1]], dtype=int64)"
      ]
     },
     "execution_count": 69,
     "metadata": {},
     "output_type": "execute_result"
    }
   ],
   "source": [
    "# Display the confusion matrix\n",
    "from sklearn.metrics import confusion_matrix\n",
    "confusion_matrix(y_test19, y_pred19)"
   ]
  },
  {
   "cell_type": "code",
   "execution_count": 70,
   "metadata": {},
   "outputs": [
    {
     "name": "stdout",
     "output_type": "stream",
     "text": [
      "                   pre       rec       spe        f1       geo       iba       sup\n",
      "\n",
      "   Champion       1.00      1.00      0.00      1.00      0.00      0.00         1\n",
      "\n",
      "avg / total       1.00      1.00      0.00      1.00      0.00      0.00         1\n",
      "\n"
     ]
    }
   ],
   "source": [
    "# Print the imbalanced classification report\n",
    "print(classification_report_imbalanced(y_test19, y_pred19))"
   ]
  },
  {
   "cell_type": "markdown",
   "metadata": {},
   "source": [
    "### Real Sociedad de F?§tbol"
   ]
  },
  {
   "cell_type": "code",
   "execution_count": 71,
   "metadata": {},
   "outputs": [
    {
     "data": {
      "text/plain": [
       "1.0"
      ]
     },
     "execution_count": 71,
     "metadata": {},
     "output_type": "execute_result"
    }
   ],
   "source": [
    "# Calculated the balanced accuracy score\n",
    "from sklearn.metrics import balanced_accuracy_score\n",
    "y_pred20 = rf.predict(X_test20)\n",
    "balanced_accuracy_score(y_test20, y_pred20)"
   ]
  },
  {
   "cell_type": "code",
   "execution_count": 72,
   "metadata": {},
   "outputs": [
    {
     "data": {
      "text/plain": [
       "array([[1]], dtype=int64)"
      ]
     },
     "execution_count": 72,
     "metadata": {},
     "output_type": "execute_result"
    }
   ],
   "source": [
    "# Display the confusion matrix\n",
    "from sklearn.metrics import confusion_matrix\n",
    "confusion_matrix(y_test20, y_pred20)"
   ]
  },
  {
   "cell_type": "code",
   "execution_count": 73,
   "metadata": {},
   "outputs": [
    {
     "name": "stdout",
     "output_type": "stream",
     "text": [
      "                   pre       rec       spe        f1       geo       iba       sup\n",
      "\n",
      "   Champion       1.00      1.00      0.00      1.00      0.00      0.00         1\n",
      "\n",
      "avg / total       1.00      1.00      0.00      1.00      0.00      0.00         1\n",
      "\n"
     ]
    }
   ],
   "source": [
    "# Print the imbalanced classification report\n",
    "print(classification_report_imbalanced(y_test20, y_pred20))"
   ]
  },
  {
   "cell_type": "markdown",
   "metadata": {},
   "source": [
    "## Teams in league possitions 5 and worse"
   ]
  },
  {
   "cell_type": "code",
   "execution_count": 74,
   "metadata": {},
   "outputs": [],
   "source": [
    "# Current league Position Leaders\n",
    "current_soccer_league_leaders21_df = soccer_data_ml_df[(soccer_data_ml_df[\"season\"] == 2020) & ((soccer_data_ml_df[\"team_code\"] == 7))]\n",
    "current_soccer_league_leaders22_df = soccer_data_ml_df[(soccer_data_ml_df[\"season\"] == 2020) & ((soccer_data_ml_df[\"team_code\"] == 565))]\n",
    "current_soccer_league_leaders23_df = soccer_data_ml_df[(soccer_data_ml_df[\"season\"] == 2020) & ((soccer_data_ml_df[\"team_code\"] == 779))]\n",
    "current_soccer_league_leaders24_df = soccer_data_ml_df[(soccer_data_ml_df[\"season\"] == 2020) & ((soccer_data_ml_df[\"team_code\"] == 1040))]\n",
    "current_soccer_league_leaders25_df = soccer_data_ml_df[(soccer_data_ml_df[\"season\"] == 2020) & ((soccer_data_ml_df[\"team_code\"] == 226))]\n",
    "current_soccer_league_leaders26_df = soccer_data_ml_df[(soccer_data_ml_df[\"season\"] == 2020) & ((soccer_data_ml_df[\"team_code\"] == 10))]\n",
    "current_soccer_league_leaders27_df = soccer_data_ml_df[(soccer_data_ml_df[\"season\"] == 2020) & ((soccer_data_ml_df[\"team_code\"] == 230))]\n",
    "current_soccer_league_leaders28_df = soccer_data_ml_df[(soccer_data_ml_df[\"season\"] == 2020) & ((soccer_data_ml_df[\"team_code\"] == 558))]\n",
    "current_soccer_league_leaders29_df = soccer_data_ml_df[(soccer_data_ml_df[\"season\"] == 2020) & ((soccer_data_ml_df[\"team_code\"] == 792))]\n",
    "current_soccer_league_leaders30_df = soccer_data_ml_df[(soccer_data_ml_df[\"season\"] == 2020) & ((soccer_data_ml_df[\"team_code\"] == 1042))]\n",
    "current_soccer_league_leaders31_df = soccer_data_ml_df[(soccer_data_ml_df[\"season\"] == 2020) & ((soccer_data_ml_df[\"team_code\"] == 12))]\n",
    "current_soccer_league_leaders32_df = soccer_data_ml_df[(soccer_data_ml_df[\"season\"] == 2020) & ((soccer_data_ml_df[\"team_code\"] == 236))]\n",
    "current_soccer_league_leaders33_df = soccer_data_ml_df[(soccer_data_ml_df[\"season\"] == 2020) & ((soccer_data_ml_df[\"team_code\"] == 564))]\n",
    "current_soccer_league_leaders34_df = soccer_data_ml_df[(soccer_data_ml_df[\"season\"] == 2020) & ((soccer_data_ml_df[\"team_code\"] == 795))]\n",
    "current_soccer_league_leaders35_df = soccer_data_ml_df[(soccer_data_ml_df[\"season\"] == 2020) & ((soccer_data_ml_df[\"team_code\"] == 1047))]\n",
    "current_soccer_league_leaders36_df = soccer_data_ml_df[(soccer_data_ml_df[\"season\"] == 2020) & ((soccer_data_ml_df[\"team_code\"] == 13))]\n",
    "current_soccer_league_leaders37_df = soccer_data_ml_df[(soccer_data_ml_df[\"season\"] == 2020) & ((soccer_data_ml_df[\"team_code\"] == 221))]\n",
    "current_soccer_league_leaders38_df = soccer_data_ml_df[(soccer_data_ml_df[\"season\"] == 2020) & ((soccer_data_ml_df[\"team_code\"] == 554))]\n",
    "current_soccer_league_leaders39_df = soccer_data_ml_df[(soccer_data_ml_df[\"season\"] == 2020) & ((soccer_data_ml_df[\"team_code\"] == 788))]\n",
    "current_soccer_league_leaders40_df = soccer_data_ml_df[(soccer_data_ml_df[\"season\"] == 2020) & ((soccer_data_ml_df[\"team_code\"] == 1058))]\n",
    "current_soccer_league_leaders41_df = soccer_data_ml_df[(soccer_data_ml_df[\"season\"] == 2020) & ((soccer_data_ml_df[\"team_code\"] == 3))]\n",
    "current_soccer_league_leaders42_df = soccer_data_ml_df[(soccer_data_ml_df[\"season\"] == 2020) & ((soccer_data_ml_df[\"team_code\"] == 232))]\n",
    "current_soccer_league_leaders43_df = soccer_data_ml_df[(soccer_data_ml_df[\"season\"] == 2020) & ((soccer_data_ml_df[\"team_code\"] == 563))]\n",
    "current_soccer_league_leaders44_df = soccer_data_ml_df[(soccer_data_ml_df[\"season\"] == 2020) & ((soccer_data_ml_df[\"team_code\"] == 787))]\n",
    "current_soccer_league_leaders45_df = soccer_data_ml_df[(soccer_data_ml_df[\"season\"] == 2020) & ((soccer_data_ml_df[\"team_code\"] == 1049))]\n",
    "\n"
   ]
  },
  {
   "cell_type": "markdown",
   "metadata": {},
   "source": [
    "### Split the Data into Training and Testing"
   ]
  },
  {
   "cell_type": "code",
   "execution_count": 75,
   "metadata": {},
   "outputs": [],
   "source": [
    "# Create our features\n",
    "X_test21 = current_soccer_league_leaders21_df.drop(\"Champion\",axis=1)\n",
    "X_test22 = current_soccer_league_leaders22_df.drop(\"Champion\",axis=1)\n",
    "X_test23 = current_soccer_league_leaders23_df.drop(\"Champion\",axis=1)\n",
    "X_test24 = current_soccer_league_leaders24_df.drop(\"Champion\",axis=1)\n",
    "X_test25 = current_soccer_league_leaders25_df.drop(\"Champion\",axis=1)\n",
    "X_test26 = current_soccer_league_leaders26_df.drop(\"Champion\",axis=1)\n",
    "X_test27 = current_soccer_league_leaders27_df.drop(\"Champion\",axis=1)\n",
    "X_test28 = current_soccer_league_leaders28_df.drop(\"Champion\",axis=1)\n",
    "X_test29 = current_soccer_league_leaders29_df.drop(\"Champion\",axis=1)\n",
    "X_test30 = current_soccer_league_leaders30_df.drop(\"Champion\",axis=1)\n",
    "X_test31 = current_soccer_league_leaders31_df.drop(\"Champion\",axis=1)\n",
    "X_test32 = current_soccer_league_leaders32_df.drop(\"Champion\",axis=1)\n",
    "X_test33 = current_soccer_league_leaders33_df.drop(\"Champion\",axis=1)\n",
    "X_test34 = current_soccer_league_leaders34_df.drop(\"Champion\",axis=1)\n",
    "X_test35 = current_soccer_league_leaders35_df.drop(\"Champion\",axis=1)\n",
    "X_test36 = current_soccer_league_leaders36_df.drop(\"Champion\",axis=1)\n",
    "X_test37 = current_soccer_league_leaders37_df.drop(\"Champion\",axis=1)\n",
    "X_test38 = current_soccer_league_leaders38_df.drop(\"Champion\",axis=1)\n",
    "X_test39 = current_soccer_league_leaders39_df.drop(\"Champion\",axis=1)\n",
    "X_test40 = current_soccer_league_leaders40_df.drop(\"Champion\",axis=1)\n",
    "X_test41 = current_soccer_league_leaders41_df.drop(\"Champion\",axis=1)\n",
    "X_test42 = current_soccer_league_leaders42_df.drop(\"Champion\",axis=1)\n",
    "X_test43 = current_soccer_league_leaders43_df.drop(\"Champion\",axis=1)\n",
    "X_test44 = current_soccer_league_leaders44_df.drop(\"Champion\",axis=1)\n",
    "X_test45 = current_soccer_league_leaders45_df.drop(\"Champion\",axis=1)\n",
    "\n",
    "# X = pd.get_dummies(X)\n",
    "\n",
    "# Create our target\n",
    "y_test21 = current_soccer_league_leaders21_df[\"Champion\"]\n",
    "y_test22 = current_soccer_league_leaders22_df[\"Champion\"]\n",
    "y_test23 = current_soccer_league_leaders23_df[\"Champion\"]\n",
    "y_test24 = current_soccer_league_leaders24_df[\"Champion\"]\n",
    "y_test25 = current_soccer_league_leaders25_df[\"Champion\"]\n",
    "y_test26 = current_soccer_league_leaders26_df[\"Champion\"]\n",
    "y_test27 = current_soccer_league_leaders27_df[\"Champion\"]\n",
    "y_test28 = current_soccer_league_leaders28_df[\"Champion\"]\n",
    "y_test29 = current_soccer_league_leaders29_df[\"Champion\"]\n",
    "y_test30 = current_soccer_league_leaders30_df[\"Champion\"]\n",
    "y_test31 = current_soccer_league_leaders31_df[\"Champion\"]\n",
    "y_test32 = current_soccer_league_leaders32_df[\"Champion\"]\n",
    "y_test33 = current_soccer_league_leaders33_df[\"Champion\"]\n",
    "y_test34 = current_soccer_league_leaders34_df[\"Champion\"]\n",
    "y_test35 = current_soccer_league_leaders35_df[\"Champion\"]\n",
    "y_test36 = current_soccer_league_leaders36_df[\"Champion\"]\n",
    "y_test37 = current_soccer_league_leaders37_df[\"Champion\"]\n",
    "y_test38 = current_soccer_league_leaders38_df[\"Champion\"]\n",
    "y_test39 = current_soccer_league_leaders39_df[\"Champion\"]\n",
    "y_test40 = current_soccer_league_leaders40_df[\"Champion\"]\n",
    "y_test41 = current_soccer_league_leaders41_df[\"Champion\"]\n",
    "y_test42 = current_soccer_league_leaders42_df[\"Champion\"]\n",
    "y_test43 = current_soccer_league_leaders43_df[\"Champion\"]\n",
    "y_test44 = current_soccer_league_leaders44_df[\"Champion\"]\n",
    "y_test45 = current_soccer_league_leaders45_df[\"Champion\"]\n"
   ]
  },
  {
   "cell_type": "markdown",
   "metadata": {},
   "source": [
    "## Teams Originally not predicted to be entering tournament"
   ]
  },
  {
   "cell_type": "markdown",
   "metadata": {},
   "source": [
    "### Everton FC"
   ]
  },
  {
   "cell_type": "code",
   "execution_count": 76,
   "metadata": {},
   "outputs": [
    {
     "data": {
      "text/plain": [
       "0.0"
      ]
     },
     "execution_count": 76,
     "metadata": {},
     "output_type": "execute_result"
    }
   ],
   "source": [
    "# Calculated the balanced accuracy score\n",
    "from sklearn.metrics import balanced_accuracy_score\n",
    "y_pred21 = rf.predict(X_test21)\n",
    "balanced_accuracy_score(y_test21, y_pred21)"
   ]
  },
  {
   "cell_type": "code",
   "execution_count": 77,
   "metadata": {},
   "outputs": [
    {
     "data": {
      "text/plain": [
       "array([[0, 0],\n",
       "       [1, 0]], dtype=int64)"
      ]
     },
     "execution_count": 77,
     "metadata": {},
     "output_type": "execute_result"
    }
   ],
   "source": [
    "# Display the confusion matrix\n",
    "from sklearn.metrics import confusion_matrix\n",
    "confusion_matrix(y_test21, y_pred21)"
   ]
  },
  {
   "cell_type": "code",
   "execution_count": 78,
   "metadata": {},
   "outputs": [
    {
     "name": "stdout",
     "output_type": "stream",
     "text": [
      "                   pre       rec       spe        f1       geo       iba       sup\n",
      "\n",
      "   Champion       0.00      0.00      0.00      0.00      0.00      0.00       0.0\n",
      "        Not       0.00      0.00      0.00      0.00      0.00      0.00       1.0\n",
      "\n",
      "avg / total       0.00      0.00      0.00      0.00      0.00      0.00       1.0\n",
      "\n"
     ]
    }
   ],
   "source": [
    "# Print the imbalanced classification report\n",
    "print(classification_report_imbalanced(y_test21, y_pred21))"
   ]
  },
  {
   "cell_type": "markdown",
   "metadata": {},
   "source": [
    "### 1. FC Union Berlin"
   ]
  },
  {
   "cell_type": "code",
   "execution_count": 79,
   "metadata": {},
   "outputs": [
    {
     "data": {
      "text/plain": [
       "0.0"
      ]
     },
     "execution_count": 79,
     "metadata": {},
     "output_type": "execute_result"
    }
   ],
   "source": [
    "# Calculated the balanced accuracy score\n",
    "from sklearn.metrics import balanced_accuracy_score\n",
    "y_pred22 = rf.predict(X_test22)\n",
    "balanced_accuracy_score(y_test22, y_pred22)"
   ]
  },
  {
   "cell_type": "code",
   "execution_count": 80,
   "metadata": {},
   "outputs": [
    {
     "data": {
      "text/plain": [
       "array([[0, 0],\n",
       "       [1, 0]], dtype=int64)"
      ]
     },
     "execution_count": 80,
     "metadata": {},
     "output_type": "execute_result"
    }
   ],
   "source": [
    "# Display the confusion matrix\n",
    "from sklearn.metrics import confusion_matrix\n",
    "confusion_matrix(y_test22, y_pred22)"
   ]
  },
  {
   "cell_type": "code",
   "execution_count": 81,
   "metadata": {},
   "outputs": [
    {
     "name": "stdout",
     "output_type": "stream",
     "text": [
      "                   pre       rec       spe        f1       geo       iba       sup\n",
      "\n",
      "   Champion       0.00      0.00      0.00      0.00      0.00      0.00       0.0\n",
      "        Not       0.00      0.00      0.00      0.00      0.00      0.00       1.0\n",
      "\n",
      "avg / total       0.00      0.00      0.00      0.00      0.00      0.00       1.0\n",
      "\n"
     ]
    }
   ],
   "source": [
    "# Print the imbalanced classification report\n",
    "print(classification_report_imbalanced(y_test22, y_pred22))"
   ]
  },
  {
   "cell_type": "markdown",
   "metadata": {},
   "source": [
    "### SSC Napoli"
   ]
  },
  {
   "cell_type": "code",
   "execution_count": 82,
   "metadata": {},
   "outputs": [
    {
     "data": {
      "text/plain": [
       "1.0"
      ]
     },
     "execution_count": 82,
     "metadata": {},
     "output_type": "execute_result"
    }
   ],
   "source": [
    "# Calculated the balanced accuracy score\n",
    "from sklearn.metrics import balanced_accuracy_score\n",
    "y_pred23 = rf.predict(X_test23)\n",
    "balanced_accuracy_score(y_test23, y_pred23)"
   ]
  },
  {
   "cell_type": "code",
   "execution_count": 83,
   "metadata": {},
   "outputs": [
    {
     "data": {
      "text/plain": [
       "array([[1]], dtype=int64)"
      ]
     },
     "execution_count": 83,
     "metadata": {},
     "output_type": "execute_result"
    }
   ],
   "source": [
    "# Display the confusion matrix\n",
    "from sklearn.metrics import confusion_matrix\n",
    "confusion_matrix(y_test23, y_pred23)"
   ]
  },
  {
   "cell_type": "code",
   "execution_count": 84,
   "metadata": {},
   "outputs": [
    {
     "name": "stdout",
     "output_type": "stream",
     "text": [
      "                   pre       rec       spe        f1       geo       iba       sup\n",
      "\n",
      "        Not       1.00      1.00      0.00      1.00      0.00      0.00         1\n",
      "\n",
      "avg / total       1.00      1.00      0.00      1.00      0.00      0.00         1\n",
      "\n"
     ]
    }
   ],
   "source": [
    "# Print the imbalanced classification report\n",
    "print(classification_report_imbalanced(y_test23, y_pred23))"
   ]
  },
  {
   "cell_type": "markdown",
   "metadata": {},
   "source": [
    "### FC Barcelona"
   ]
  },
  {
   "cell_type": "code",
   "execution_count": 85,
   "metadata": {},
   "outputs": [
    {
     "data": {
      "text/plain": [
       "0.0"
      ]
     },
     "execution_count": 85,
     "metadata": {},
     "output_type": "execute_result"
    }
   ],
   "source": [
    "# Calculated the balanced accuracy score\n",
    "from sklearn.metrics import balanced_accuracy_score\n",
    "y_pred24 = rf.predict(X_test24)\n",
    "balanced_accuracy_score(y_test24, y_pred24)"
   ]
  },
  {
   "cell_type": "code",
   "execution_count": 86,
   "metadata": {},
   "outputs": [
    {
     "data": {
      "text/plain": [
       "array([[0, 0],\n",
       "       [1, 0]], dtype=int64)"
      ]
     },
     "execution_count": 86,
     "metadata": {},
     "output_type": "execute_result"
    }
   ],
   "source": [
    "# Display the confusion matrix\n",
    "from sklearn.metrics import confusion_matrix\n",
    "confusion_matrix(y_test24, y_pred24)"
   ]
  },
  {
   "cell_type": "code",
   "execution_count": 87,
   "metadata": {},
   "outputs": [
    {
     "name": "stdout",
     "output_type": "stream",
     "text": [
      "                   pre       rec       spe        f1       geo       iba       sup\n",
      "\n",
      "   Champion       0.00      0.00      0.00      0.00      0.00      0.00       0.0\n",
      "        Not       0.00      0.00      0.00      0.00      0.00      0.00       1.0\n",
      "\n",
      "avg / total       0.00      0.00      0.00      0.00      0.00      0.00       1.0\n",
      "\n"
     ]
    }
   ],
   "source": [
    "# Print the imbalanced classification report\n",
    "print(classification_report_imbalanced(y_test24, y_pred24))"
   ]
  },
  {
   "cell_type": "markdown",
   "metadata": {},
   "source": [
    "### Montpellier HSC"
   ]
  },
  {
   "cell_type": "code",
   "execution_count": 88,
   "metadata": {},
   "outputs": [
    {
     "data": {
      "text/plain": [
       "1.0"
      ]
     },
     "execution_count": 88,
     "metadata": {},
     "output_type": "execute_result"
    }
   ],
   "source": [
    "# Calculated the balanced accuracy score\n",
    "from sklearn.metrics import balanced_accuracy_score\n",
    "y_pred25 = rf.predict(X_test25)\n",
    "balanced_accuracy_score(y_test25, y_pred25)"
   ]
  },
  {
   "cell_type": "code",
   "execution_count": 89,
   "metadata": {},
   "outputs": [
    {
     "data": {
      "text/plain": [
       "array([[1]], dtype=int64)"
      ]
     },
     "execution_count": 89,
     "metadata": {},
     "output_type": "execute_result"
    }
   ],
   "source": [
    "# Display the confusion matrix\n",
    "from sklearn.metrics import confusion_matrix\n",
    "confusion_matrix(y_test25, y_pred25)"
   ]
  },
  {
   "cell_type": "code",
   "execution_count": 90,
   "metadata": {},
   "outputs": [
    {
     "name": "stdout",
     "output_type": "stream",
     "text": [
      "                   pre       rec       spe        f1       geo       iba       sup\n",
      "\n",
      "        Not       1.00      1.00      0.00      1.00      0.00      0.00         1\n",
      "\n",
      "avg / total       1.00      1.00      0.00      1.00      0.00      0.00         1\n",
      "\n"
     ]
    }
   ],
   "source": [
    "# Print the imbalanced classification report\n",
    "print(classification_report_imbalanced(y_test25, y_pred25))"
   ]
  },
  {
   "cell_type": "markdown",
   "metadata": {},
   "source": [
    "### Manchester United FC"
   ]
  },
  {
   "cell_type": "code",
   "execution_count": 91,
   "metadata": {},
   "outputs": [
    {
     "data": {
      "text/plain": [
       "1.0"
      ]
     },
     "execution_count": 91,
     "metadata": {},
     "output_type": "execute_result"
    }
   ],
   "source": [
    "# Calculated the balanced accuracy score\n",
    "from sklearn.metrics import balanced_accuracy_score\n",
    "y_pred26 = rf.predict(X_test26)\n",
    "balanced_accuracy_score(y_test26, y_pred26)"
   ]
  },
  {
   "cell_type": "code",
   "execution_count": 92,
   "metadata": {},
   "outputs": [
    {
     "data": {
      "text/plain": [
       "array([[1]], dtype=int64)"
      ]
     },
     "execution_count": 92,
     "metadata": {},
     "output_type": "execute_result"
    }
   ],
   "source": [
    "# Display the confusion matrix\n",
    "from sklearn.metrics import confusion_matrix\n",
    "confusion_matrix(y_test26, y_pred26)"
   ]
  },
  {
   "cell_type": "code",
   "execution_count": 93,
   "metadata": {},
   "outputs": [
    {
     "name": "stdout",
     "output_type": "stream",
     "text": [
      "                   pre       rec       spe        f1       geo       iba       sup\n",
      "\n",
      "        Not       1.00      1.00      0.00      1.00      0.00      0.00         1\n",
      "\n",
      "avg / total       1.00      1.00      0.00      1.00      0.00      0.00         1\n",
      "\n"
     ]
    }
   ],
   "source": [
    "# Print the imbalanced classification report\n",
    "print(classification_report_imbalanced(y_test26, y_pred26))"
   ]
  },
  {
   "cell_type": "markdown",
   "metadata": {},
   "source": [
    "### Stade Rennais FC"
   ]
  },
  {
   "cell_type": "code",
   "execution_count": 94,
   "metadata": {},
   "outputs": [
    {
     "data": {
      "text/plain": [
       "1.0"
      ]
     },
     "execution_count": 94,
     "metadata": {},
     "output_type": "execute_result"
    }
   ],
   "source": [
    "# Calculated the balanced accuracy score\n",
    "from sklearn.metrics import balanced_accuracy_score\n",
    "y_pred27 = rf.predict(X_test27)\n",
    "balanced_accuracy_score(y_test27, y_pred27)"
   ]
  },
  {
   "cell_type": "code",
   "execution_count": 95,
   "metadata": {},
   "outputs": [
    {
     "data": {
      "text/plain": [
       "array([[1]], dtype=int64)"
      ]
     },
     "execution_count": 95,
     "metadata": {},
     "output_type": "execute_result"
    }
   ],
   "source": [
    "# Display the confusion matrix\n",
    "from sklearn.metrics import confusion_matrix\n",
    "confusion_matrix(y_test27, y_pred27)"
   ]
  },
  {
   "cell_type": "code",
   "execution_count": 96,
   "metadata": {},
   "outputs": [
    {
     "name": "stdout",
     "output_type": "stream",
     "text": [
      "                   pre       rec       spe        f1       geo       iba       sup\n",
      "\n",
      "        Not       1.00      1.00      0.00      1.00      0.00      0.00         1\n",
      "\n",
      "avg / total       1.00      1.00      0.00      1.00      0.00      0.00         1\n",
      "\n"
     ]
    }
   ],
   "source": [
    "# Print the imbalanced classification report\n",
    "print(classification_report_imbalanced(y_test27, y_pred27))"
   ]
  },
  {
   "cell_type": "markdown",
   "metadata": {},
   "source": [
    "### VfL Wolfsburg"
   ]
  },
  {
   "cell_type": "code",
   "execution_count": 97,
   "metadata": {},
   "outputs": [
    {
     "data": {
      "text/plain": [
       "1.0"
      ]
     },
     "execution_count": 97,
     "metadata": {},
     "output_type": "execute_result"
    }
   ],
   "source": [
    "# Calculated the balanced accuracy score\n",
    "from sklearn.metrics import balanced_accuracy_score\n",
    "y_pred28 = rf.predict(X_test28)\n",
    "balanced_accuracy_score(y_test28, y_pred28)"
   ]
  },
  {
   "cell_type": "code",
   "execution_count": 98,
   "metadata": {},
   "outputs": [
    {
     "data": {
      "text/plain": [
       "array([[1]], dtype=int64)"
      ]
     },
     "execution_count": 98,
     "metadata": {},
     "output_type": "execute_result"
    }
   ],
   "source": [
    "# Display the confusion matrix\n",
    "from sklearn.metrics import confusion_matrix\n",
    "confusion_matrix(y_test28, y_pred28)"
   ]
  },
  {
   "cell_type": "code",
   "execution_count": 99,
   "metadata": {},
   "outputs": [
    {
     "name": "stdout",
     "output_type": "stream",
     "text": [
      "                   pre       rec       spe        f1       geo       iba       sup\n",
      "\n",
      "        Not       1.00      1.00      0.00      1.00      0.00      0.00         1\n",
      "\n",
      "avg / total       1.00      1.00      0.00      1.00      0.00      0.00         1\n",
      "\n"
     ]
    }
   ],
   "source": [
    "# Print the imbalanced classification report\n",
    "print(classification_report_imbalanced(y_test28, y_pred28))"
   ]
  },
  {
   "cell_type": "markdown",
   "metadata": {},
   "source": [
    "### US Sassuolo Calcio"
   ]
  },
  {
   "cell_type": "code",
   "execution_count": 100,
   "metadata": {},
   "outputs": [
    {
     "data": {
      "text/plain": [
       "1.0"
      ]
     },
     "execution_count": 100,
     "metadata": {},
     "output_type": "execute_result"
    }
   ],
   "source": [
    "# Calculated the balanced accuracy score\n",
    "from sklearn.metrics import balanced_accuracy_score\n",
    "y_pred29 = rf.predict(X_test29)\n",
    "balanced_accuracy_score(y_test29, y_pred29)"
   ]
  },
  {
   "cell_type": "code",
   "execution_count": 101,
   "metadata": {},
   "outputs": [
    {
     "data": {
      "text/plain": [
       "array([[1]], dtype=int64)"
      ]
     },
     "execution_count": 101,
     "metadata": {},
     "output_type": "execute_result"
    }
   ],
   "source": [
    "# Display the confusion matrix\n",
    "from sklearn.metrics import confusion_matrix\n",
    "confusion_matrix(y_test29, y_pred29)"
   ]
  },
  {
   "cell_type": "code",
   "execution_count": 102,
   "metadata": {},
   "outputs": [
    {
     "name": "stdout",
     "output_type": "stream",
     "text": [
      "                   pre       rec       spe        f1       geo       iba       sup\n",
      "\n",
      "        Not       1.00      1.00      0.00      1.00      0.00      0.00         1\n",
      "\n",
      "avg / total       1.00      1.00      0.00      1.00      0.00      0.00         1\n",
      "\n"
     ]
    }
   ],
   "source": [
    "# Print the imbalanced classification report\n",
    "print(classification_report_imbalanced(y_test29, y_pred29))"
   ]
  },
  {
   "cell_type": "markdown",
   "metadata": {},
   "source": [
    "### Sevilla FC"
   ]
  },
  {
   "cell_type": "code",
   "execution_count": 103,
   "metadata": {},
   "outputs": [
    {
     "data": {
      "text/plain": [
       "0.0"
      ]
     },
     "execution_count": 103,
     "metadata": {},
     "output_type": "execute_result"
    }
   ],
   "source": [
    "# Calculated the balanced accuracy score\n",
    "from sklearn.metrics import balanced_accuracy_score\n",
    "y_pred30 = rf.predict(X_test30)\n",
    "balanced_accuracy_score(y_test30, y_pred30)"
   ]
  },
  {
   "cell_type": "code",
   "execution_count": 104,
   "metadata": {},
   "outputs": [
    {
     "data": {
      "text/plain": [
       "array([[0, 0],\n",
       "       [1, 0]], dtype=int64)"
      ]
     },
     "execution_count": 104,
     "metadata": {},
     "output_type": "execute_result"
    }
   ],
   "source": [
    "# Display the confusion matrix\n",
    "from sklearn.metrics import confusion_matrix\n",
    "confusion_matrix(y_test30, y_pred30)"
   ]
  },
  {
   "cell_type": "code",
   "execution_count": 105,
   "metadata": {},
   "outputs": [
    {
     "name": "stdout",
     "output_type": "stream",
     "text": [
      "                   pre       rec       spe        f1       geo       iba       sup\n",
      "\n",
      "   Champion       0.00      0.00      0.00      0.00      0.00      0.00       0.0\n",
      "        Not       0.00      0.00      0.00      0.00      0.00      0.00       1.0\n",
      "\n",
      "avg / total       0.00      0.00      0.00      0.00      0.00      0.00       1.0\n",
      "\n"
     ]
    }
   ],
   "source": [
    "# Print the imbalanced classification report\n",
    "print(classification_report_imbalanced(y_test30, y_pred30))"
   ]
  },
  {
   "cell_type": "markdown",
   "metadata": {},
   "source": [
    "### Chelsea FC"
   ]
  },
  {
   "cell_type": "code",
   "execution_count": 106,
   "metadata": {},
   "outputs": [
    {
     "data": {
      "text/plain": [
       "1.0"
      ]
     },
     "execution_count": 106,
     "metadata": {},
     "output_type": "execute_result"
    }
   ],
   "source": [
    "# Calculated the balanced accuracy score\n",
    "from sklearn.metrics import balanced_accuracy_score\n",
    "y_pred31 = rf.predict(X_test31)\n",
    "balanced_accuracy_score(y_test31, y_pred31)"
   ]
  },
  {
   "cell_type": "code",
   "execution_count": 107,
   "metadata": {},
   "outputs": [
    {
     "data": {
      "text/plain": [
       "array([[1]], dtype=int64)"
      ]
     },
     "execution_count": 107,
     "metadata": {},
     "output_type": "execute_result"
    }
   ],
   "source": [
    "# Display the confusion matrix\n",
    "from sklearn.metrics import confusion_matrix\n",
    "confusion_matrix(y_test31, y_pred31)"
   ]
  },
  {
   "cell_type": "code",
   "execution_count": 108,
   "metadata": {},
   "outputs": [
    {
     "name": "stdout",
     "output_type": "stream",
     "text": [
      "                   pre       rec       spe        f1       geo       iba       sup\n",
      "\n",
      "        Not       1.00      1.00      0.00      1.00      0.00      0.00         1\n",
      "\n",
      "avg / total       1.00      1.00      0.00      1.00      0.00      0.00         1\n",
      "\n"
     ]
    }
   ],
   "source": [
    "# Print the imbalanced classification report\n",
    "print(classification_report_imbalanced(y_test31, y_pred31))"
   ]
  },
  {
   "cell_type": "markdown",
   "metadata": {},
   "source": [
    "### Racing Club de Lens"
   ]
  },
  {
   "cell_type": "code",
   "execution_count": 109,
   "metadata": {},
   "outputs": [
    {
     "data": {
      "text/plain": [
       "0.0"
      ]
     },
     "execution_count": 109,
     "metadata": {},
     "output_type": "execute_result"
    }
   ],
   "source": [
    "# Calculated the balanced accuracy score\n",
    "from sklearn.metrics import balanced_accuracy_score\n",
    "y_pred32 = rf.predict(X_test32)\n",
    "balanced_accuracy_score(y_test32, y_pred32)"
   ]
  },
  {
   "cell_type": "code",
   "execution_count": 110,
   "metadata": {},
   "outputs": [
    {
     "data": {
      "text/plain": [
       "array([[0, 0],\n",
       "       [1, 0]], dtype=int64)"
      ]
     },
     "execution_count": 110,
     "metadata": {},
     "output_type": "execute_result"
    }
   ],
   "source": [
    "# Display the confusion matrix\n",
    "from sklearn.metrics import confusion_matrix\n",
    "confusion_matrix(y_test32, y_pred32)"
   ]
  },
  {
   "cell_type": "code",
   "execution_count": 111,
   "metadata": {},
   "outputs": [
    {
     "name": "stdout",
     "output_type": "stream",
     "text": [
      "                   pre       rec       spe        f1       geo       iba       sup\n",
      "\n",
      "   Champion       0.00      0.00      0.00      0.00      0.00      0.00       0.0\n",
      "        Not       0.00      0.00      0.00      0.00      0.00      0.00       1.0\n",
      "\n",
      "avg / total       0.00      0.00      0.00      0.00      0.00      0.00       1.0\n",
      "\n"
     ]
    }
   ],
   "source": [
    "# Print the imbalanced classification report\n",
    "print(classification_report_imbalanced(y_test32, y_pred32))"
   ]
  },
  {
   "cell_type": "markdown",
   "metadata": {},
   "source": [
    "### VfB Stuttgart 1893"
   ]
  },
  {
   "cell_type": "code",
   "execution_count": 112,
   "metadata": {},
   "outputs": [
    {
     "data": {
      "text/plain": [
       "1.0"
      ]
     },
     "execution_count": 112,
     "metadata": {},
     "output_type": "execute_result"
    }
   ],
   "source": [
    "# Calculated the balanced accuracy score\n",
    "from sklearn.metrics import balanced_accuracy_score\n",
    "y_pred33 = rf.predict(X_test33)\n",
    "balanced_accuracy_score(y_test33, y_pred33)"
   ]
  },
  {
   "cell_type": "code",
   "execution_count": 113,
   "metadata": {},
   "outputs": [
    {
     "data": {
      "text/plain": [
       "array([[1]], dtype=int64)"
      ]
     },
     "execution_count": 113,
     "metadata": {},
     "output_type": "execute_result"
    }
   ],
   "source": [
    "# Display the confusion matrix\n",
    "from sklearn.metrics import confusion_matrix\n",
    "confusion_matrix(y_test33, y_pred33)"
   ]
  },
  {
   "cell_type": "code",
   "execution_count": 114,
   "metadata": {},
   "outputs": [
    {
     "name": "stdout",
     "output_type": "stream",
     "text": [
      "                   pre       rec       spe        f1       geo       iba       sup\n",
      "\n",
      "        Not       1.00      1.00      0.00      1.00      0.00      0.00         1\n",
      "\n",
      "avg / total       1.00      1.00      0.00      1.00      0.00      0.00         1\n",
      "\n"
     ]
    }
   ],
   "source": [
    "# Print the imbalanced classification report\n",
    "print(classification_report_imbalanced(y_test33, y_pred33))"
   ]
  },
  {
   "cell_type": "markdown",
   "metadata": {},
   "source": [
    "### Hellas Verona FC"
   ]
  },
  {
   "cell_type": "code",
   "execution_count": 115,
   "metadata": {},
   "outputs": [
    {
     "data": {
      "text/plain": [
       "1.0"
      ]
     },
     "execution_count": 115,
     "metadata": {},
     "output_type": "execute_result"
    }
   ],
   "source": [
    "# Calculated the balanced accuracy score\n",
    "from sklearn.metrics import balanced_accuracy_score\n",
    "y_pred34 = rf.predict(X_test34)\n",
    "balanced_accuracy_score(y_test34, y_pred34)"
   ]
  },
  {
   "cell_type": "code",
   "execution_count": 116,
   "metadata": {},
   "outputs": [
    {
     "data": {
      "text/plain": [
       "array([[1]], dtype=int64)"
      ]
     },
     "execution_count": 116,
     "metadata": {},
     "output_type": "execute_result"
    }
   ],
   "source": [
    "# Display the confusion matrix\n",
    "from sklearn.metrics import confusion_matrix\n",
    "confusion_matrix(y_test34, y_pred34)"
   ]
  },
  {
   "cell_type": "code",
   "execution_count": 117,
   "metadata": {},
   "outputs": [
    {
     "name": "stdout",
     "output_type": "stream",
     "text": [
      "                   pre       rec       spe        f1       geo       iba       sup\n",
      "\n",
      "        Not       1.00      1.00      0.00      1.00      0.00      0.00         1\n",
      "\n",
      "avg / total       1.00      1.00      0.00      1.00      0.00      0.00         1\n",
      "\n"
     ]
    }
   ],
   "source": [
    "# Print the imbalanced classification report\n",
    "print(classification_report_imbalanced(y_test34, y_pred34))"
   ]
  },
  {
   "cell_type": "markdown",
   "metadata": {},
   "source": [
    "### Granada CF"
   ]
  },
  {
   "cell_type": "code",
   "execution_count": 118,
   "metadata": {},
   "outputs": [
    {
     "data": {
      "text/plain": [
       "1.0"
      ]
     },
     "execution_count": 118,
     "metadata": {},
     "output_type": "execute_result"
    }
   ],
   "source": [
    "# Calculated the balanced accuracy score\n",
    "from sklearn.metrics import balanced_accuracy_score\n",
    "y_pred35 = rf.predict(X_test35)\n",
    "balanced_accuracy_score(y_test35, y_pred35)"
   ]
  },
  {
   "cell_type": "code",
   "execution_count": 119,
   "metadata": {},
   "outputs": [
    {
     "data": {
      "text/plain": [
       "array([[1]], dtype=int64)"
      ]
     },
     "execution_count": 119,
     "metadata": {},
     "output_type": "execute_result"
    }
   ],
   "source": [
    "# Display the confusion matrix\n",
    "from sklearn.metrics import confusion_matrix\n",
    "confusion_matrix(y_test35, y_pred35)"
   ]
  },
  {
   "cell_type": "code",
   "execution_count": 120,
   "metadata": {},
   "outputs": [
    {
     "name": "stdout",
     "output_type": "stream",
     "text": [
      "                   pre       rec       spe        f1       geo       iba       sup\n",
      "\n",
      "        Not       1.00      1.00      0.00      1.00      0.00      0.00         1\n",
      "\n",
      "avg / total       1.00      1.00      0.00      1.00      0.00      0.00         1\n",
      "\n"
     ]
    }
   ],
   "source": [
    "# Print the imbalanced classification report\n",
    "print(classification_report_imbalanced(y_test35, y_pred35))"
   ]
  },
  {
   "attachments": {},
   "cell_type": "markdown",
   "metadata": {},
   "source": [
    "### West Ham United FC"
   ]
  },
  {
   "cell_type": "code",
   "execution_count": 121,
   "metadata": {},
   "outputs": [
    {
     "data": {
      "text/plain": [
       "1.0"
      ]
     },
     "execution_count": 121,
     "metadata": {},
     "output_type": "execute_result"
    }
   ],
   "source": [
    "from sklearn.metrics import balanced_accuracy_score\n",
    "y_pred36 = rf.predict(X_test36)\n",
    "balanced_accuracy_score(y_test36, y_pred36)"
   ]
  },
  {
   "cell_type": "code",
   "execution_count": 122,
   "metadata": {},
   "outputs": [
    {
     "data": {
      "text/plain": [
       "array([[1]], dtype=int64)"
      ]
     },
     "execution_count": 122,
     "metadata": {},
     "output_type": "execute_result"
    }
   ],
   "source": [
    "# Display the confusion matrix\n",
    "from sklearn.metrics import confusion_matrix\n",
    "confusion_matrix(y_test36, y_pred36)"
   ]
  },
  {
   "cell_type": "code",
   "execution_count": 123,
   "metadata": {},
   "outputs": [
    {
     "name": "stdout",
     "output_type": "stream",
     "text": [
      "                   pre       rec       spe        f1       geo       iba       sup\n",
      "\n",
      "        Not       1.00      1.00      0.00      1.00      0.00      0.00         1\n",
      "\n",
      "avg / total       1.00      1.00      0.00      1.00      0.00      0.00         1\n",
      "\n"
     ]
    }
   ],
   "source": [
    "# Print the imbalanced classification report\n",
    "print(classification_report_imbalanced(y_test36, y_pred36))"
   ]
  },
  {
   "cell_type": "markdown",
   "metadata": {},
   "source": [
    "### AS Monaco FC\n"
   ]
  },
  {
   "cell_type": "code",
   "execution_count": 124,
   "metadata": {},
   "outputs": [
    {
     "data": {
      "text/plain": [
       "1.0"
      ]
     },
     "execution_count": 124,
     "metadata": {},
     "output_type": "execute_result"
    }
   ],
   "source": [
    "from sklearn.metrics import balanced_accuracy_score\n",
    "y_pred37 = rf.predict(X_test37)\n",
    "balanced_accuracy_score(y_test37, y_pred37)"
   ]
  },
  {
   "cell_type": "code",
   "execution_count": 125,
   "metadata": {},
   "outputs": [
    {
     "data": {
      "text/plain": [
       "array([[1]], dtype=int64)"
      ]
     },
     "execution_count": 125,
     "metadata": {},
     "output_type": "execute_result"
    }
   ],
   "source": [
    "# Display the confusion matrix\n",
    "from sklearn.metrics import confusion_matrix\n",
    "confusion_matrix(y_test37, y_pred37)"
   ]
  },
  {
   "cell_type": "code",
   "execution_count": 126,
   "metadata": {},
   "outputs": [
    {
     "name": "stdout",
     "output_type": "stream",
     "text": [
      "                   pre       rec       spe        f1       geo       iba       sup\n",
      "\n",
      "        Not       1.00      1.00      0.00      1.00      0.00      0.00         1\n",
      "\n",
      "avg / total       1.00      1.00      0.00      1.00      0.00      0.00         1\n",
      "\n"
     ]
    }
   ],
   "source": [
    "# Print the imbalanced classification report\n",
    "print(classification_report_imbalanced(y_test37, y_pred37))"
   ]
  },
  {
   "cell_type": "markdown",
   "metadata": {},
   "source": [
    "### Borussia VfL M??nchengladbach\n"
   ]
  },
  {
   "cell_type": "code",
   "execution_count": 127,
   "metadata": {},
   "outputs": [
    {
     "data": {
      "text/plain": [
       "1.0"
      ]
     },
     "execution_count": 127,
     "metadata": {},
     "output_type": "execute_result"
    }
   ],
   "source": [
    "from sklearn.metrics import balanced_accuracy_score\n",
    "y_pred38 = rf.predict(X_test38)\n",
    "balanced_accuracy_score(y_test38, y_pred38)"
   ]
  },
  {
   "cell_type": "code",
   "execution_count": 128,
   "metadata": {},
   "outputs": [
    {
     "data": {
      "text/plain": [
       "array([[1]], dtype=int64)"
      ]
     },
     "execution_count": 128,
     "metadata": {},
     "output_type": "execute_result"
    }
   ],
   "source": [
    "# Display the confusion matrix\n",
    "from sklearn.metrics import confusion_matrix\n",
    "confusion_matrix(y_test38, y_pred38)"
   ]
  },
  {
   "cell_type": "code",
   "execution_count": 129,
   "metadata": {},
   "outputs": [
    {
     "name": "stdout",
     "output_type": "stream",
     "text": [
      "                   pre       rec       spe        f1       geo       iba       sup\n",
      "\n",
      "        Not       1.00      1.00      0.00      1.00      0.00      0.00         1\n",
      "\n",
      "avg / total       1.00      1.00      0.00      1.00      0.00      0.00         1\n",
      "\n"
     ]
    }
   ],
   "source": [
    "# Print the imbalanced classification report\n",
    "print(classification_report_imbalanced(y_test38, y_pred38))"
   ]
  },
  {
   "cell_type": "markdown",
   "metadata": {},
   "source": [
    "### Atalanta Bergamasca Calcio\n"
   ]
  },
  {
   "cell_type": "code",
   "execution_count": 130,
   "metadata": {},
   "outputs": [
    {
     "data": {
      "text/plain": [
       "1.0"
      ]
     },
     "execution_count": 130,
     "metadata": {},
     "output_type": "execute_result"
    }
   ],
   "source": [
    "from sklearn.metrics import balanced_accuracy_score\n",
    "y_pred39 = rf.predict(X_test39)\n",
    "balanced_accuracy_score(y_test39, y_pred39)"
   ]
  },
  {
   "cell_type": "code",
   "execution_count": 131,
   "metadata": {},
   "outputs": [
    {
     "data": {
      "text/plain": [
       "array([[1]], dtype=int64)"
      ]
     },
     "execution_count": 131,
     "metadata": {},
     "output_type": "execute_result"
    }
   ],
   "source": [
    "# Display the confusion matrix\n",
    "from sklearn.metrics import confusion_matrix\n",
    "confusion_matrix(y_test39, y_pred39)"
   ]
  },
  {
   "cell_type": "code",
   "execution_count": 132,
   "metadata": {},
   "outputs": [
    {
     "name": "stdout",
     "output_type": "stream",
     "text": [
      "                   pre       rec       spe        f1       geo       iba       sup\n",
      "\n",
      "        Not       1.00      1.00      0.00      1.00      0.00      0.00         1\n",
      "\n",
      "avg / total       1.00      1.00      0.00      1.00      0.00      0.00         1\n",
      "\n"
     ]
    }
   ],
   "source": [
    "# Print the imbalanced classification report\n",
    "print(classification_report_imbalanced(y_test39, y_pred39))"
   ]
  },
  {
   "cell_type": "markdown",
   "metadata": {},
   "source": [
    "### C?­diz CF"
   ]
  },
  {
   "cell_type": "code",
   "execution_count": 133,
   "metadata": {},
   "outputs": [
    {
     "data": {
      "text/plain": [
       "1.0"
      ]
     },
     "execution_count": 133,
     "metadata": {},
     "output_type": "execute_result"
    }
   ],
   "source": [
    "from sklearn.metrics import balanced_accuracy_score\n",
    "y_pred40 = rf.predict(X_test40)\n",
    "balanced_accuracy_score(y_test40, y_pred40)"
   ]
  },
  {
   "cell_type": "code",
   "execution_count": 134,
   "metadata": {},
   "outputs": [
    {
     "data": {
      "text/plain": [
       "array([[1]], dtype=int64)"
      ]
     },
     "execution_count": 134,
     "metadata": {},
     "output_type": "execute_result"
    }
   ],
   "source": [
    "# Display the confusion matrix\n",
    "from sklearn.metrics import confusion_matrix\n",
    "confusion_matrix(y_test40, y_pred40)"
   ]
  },
  {
   "cell_type": "code",
   "execution_count": 135,
   "metadata": {},
   "outputs": [
    {
     "name": "stdout",
     "output_type": "stream",
     "text": [
      "                   pre       rec       spe        f1       geo       iba       sup\n",
      "\n",
      "        Not       1.00      1.00      0.00      1.00      0.00      0.00         1\n",
      "\n",
      "avg / total       1.00      1.00      0.00      1.00      0.00      0.00         1\n",
      "\n"
     ]
    }
   ],
   "source": [
    "# Print the imbalanced classification report\n",
    "print(classification_report_imbalanced(y_test40, y_pred40))"
   ]
  },
  {
   "attachments": {},
   "cell_type": "markdown",
   "metadata": {},
   "source": [
    "### Manchester City FC"
   ]
  },
  {
   "cell_type": "code",
   "execution_count": 136,
   "metadata": {},
   "outputs": [
    {
     "data": {
      "text/plain": [
       "0.0"
      ]
     },
     "execution_count": 136,
     "metadata": {},
     "output_type": "execute_result"
    }
   ],
   "source": [
    "from sklearn.metrics import balanced_accuracy_score\n",
    "y_pred41 = rf.predict(X_test41)\n",
    "balanced_accuracy_score(y_test41, y_pred41)"
   ]
  },
  {
   "cell_type": "code",
   "execution_count": 137,
   "metadata": {},
   "outputs": [
    {
     "data": {
      "text/plain": [
       "array([[0, 0],\n",
       "       [1, 0]], dtype=int64)"
      ]
     },
     "execution_count": 137,
     "metadata": {},
     "output_type": "execute_result"
    }
   ],
   "source": [
    "# Display the confusion matrix\n",
    "from sklearn.metrics import confusion_matrix\n",
    "confusion_matrix(y_test41, y_pred41)"
   ]
  },
  {
   "cell_type": "code",
   "execution_count": 138,
   "metadata": {},
   "outputs": [
    {
     "name": "stdout",
     "output_type": "stream",
     "text": [
      "                   pre       rec       spe        f1       geo       iba       sup\n",
      "\n",
      "   Champion       0.00      0.00      0.00      0.00      0.00      0.00       0.0\n",
      "        Not       0.00      0.00      0.00      0.00      0.00      0.00       1.0\n",
      "\n",
      "avg / total       0.00      0.00      0.00      0.00      0.00      0.00       1.0\n",
      "\n"
     ]
    }
   ],
   "source": [
    "# Print the imbalanced classification report\n",
    "print(classification_report_imbalanced(y_test41, y_pred41))"
   ]
  },
  {
   "cell_type": "markdown",
   "metadata": {},
   "source": [
    "### Angers Sporting Club de l'Ouest"
   ]
  },
  {
   "cell_type": "code",
   "execution_count": 139,
   "metadata": {},
   "outputs": [
    {
     "data": {
      "text/plain": [
       "1.0"
      ]
     },
     "execution_count": 139,
     "metadata": {},
     "output_type": "execute_result"
    }
   ],
   "source": [
    "from sklearn.metrics import balanced_accuracy_score\n",
    "y_pred42 = rf.predict(X_test42)\n",
    "balanced_accuracy_score(y_test42, y_pred42)"
   ]
  },
  {
   "cell_type": "code",
   "execution_count": 140,
   "metadata": {},
   "outputs": [
    {
     "data": {
      "text/plain": [
       "array([[1]], dtype=int64)"
      ]
     },
     "execution_count": 140,
     "metadata": {},
     "output_type": "execute_result"
    }
   ],
   "source": [
    "# Display the confusion matrix\n",
    "from sklearn.metrics import confusion_matrix\n",
    "confusion_matrix(y_test42, y_pred42)"
   ]
  },
  {
   "cell_type": "code",
   "execution_count": 141,
   "metadata": {},
   "outputs": [
    {
     "name": "stdout",
     "output_type": "stream",
     "text": [
      "                   pre       rec       spe        f1       geo       iba       sup\n",
      "\n",
      "        Not       1.00      1.00      0.00      1.00      0.00      0.00         1\n",
      "\n",
      "avg / total       1.00      1.00      0.00      1.00      0.00      0.00         1\n",
      "\n"
     ]
    }
   ],
   "source": [
    "# Print the imbalanced classification report\n",
    "print(classification_report_imbalanced(y_test42, y_pred42))"
   ]
  },
  {
   "cell_type": "markdown",
   "metadata": {},
   "source": [
    "### FC Augsburg"
   ]
  },
  {
   "cell_type": "code",
   "execution_count": 142,
   "metadata": {},
   "outputs": [
    {
     "data": {
      "text/plain": [
       "1.0"
      ]
     },
     "execution_count": 142,
     "metadata": {},
     "output_type": "execute_result"
    }
   ],
   "source": [
    "from sklearn.metrics import balanced_accuracy_score\n",
    "y_pred43 = rf.predict(X_test43)\n",
    "balanced_accuracy_score(y_test43, y_pred43)"
   ]
  },
  {
   "cell_type": "code",
   "execution_count": 143,
   "metadata": {},
   "outputs": [
    {
     "data": {
      "text/plain": [
       "array([[1]], dtype=int64)"
      ]
     },
     "execution_count": 143,
     "metadata": {},
     "output_type": "execute_result"
    }
   ],
   "source": [
    "# Display the confusion matrix\n",
    "from sklearn.metrics import confusion_matrix\n",
    "confusion_matrix(y_test43, y_pred43)"
   ]
  },
  {
   "cell_type": "code",
   "execution_count": 144,
   "metadata": {},
   "outputs": [
    {
     "name": "stdout",
     "output_type": "stream",
     "text": [
      "                   pre       rec       spe        f1       geo       iba       sup\n",
      "\n",
      "        Not       1.00      1.00      0.00      1.00      0.00      0.00         1\n",
      "\n",
      "avg / total       1.00      1.00      0.00      1.00      0.00      0.00         1\n",
      "\n"
     ]
    }
   ],
   "source": [
    "# Print the imbalanced classification report\n",
    "print(classification_report_imbalanced(y_test43, y_pred43))"
   ]
  },
  {
   "cell_type": "markdown",
   "metadata": {},
   "source": [
    "### SS Lazio"
   ]
  },
  {
   "cell_type": "code",
   "execution_count": 145,
   "metadata": {},
   "outputs": [
    {
     "data": {
      "text/plain": [
       "1.0"
      ]
     },
     "execution_count": 145,
     "metadata": {},
     "output_type": "execute_result"
    }
   ],
   "source": [
    "from sklearn.metrics import balanced_accuracy_score\n",
    "y_pred44 = rf.predict(X_test44)\n",
    "balanced_accuracy_score(y_test44, y_pred44)"
   ]
  },
  {
   "cell_type": "code",
   "execution_count": 146,
   "metadata": {},
   "outputs": [
    {
     "data": {
      "text/plain": [
       "array([[1]], dtype=int64)"
      ]
     },
     "execution_count": 146,
     "metadata": {},
     "output_type": "execute_result"
    }
   ],
   "source": [
    "# Display the confusion matrix\n",
    "from sklearn.metrics import confusion_matrix\n",
    "confusion_matrix(y_test44, y_pred44)"
   ]
  },
  {
   "cell_type": "code",
   "execution_count": 147,
   "metadata": {},
   "outputs": [
    {
     "name": "stdout",
     "output_type": "stream",
     "text": [
      "                   pre       rec       spe        f1       geo       iba       sup\n",
      "\n",
      "        Not       1.00      1.00      0.00      1.00      0.00      0.00         1\n",
      "\n",
      "avg / total       1.00      1.00      0.00      1.00      0.00      0.00         1\n",
      "\n"
     ]
    }
   ],
   "source": [
    "# Print the imbalanced classification report\n",
    "print(classification_report_imbalanced(y_test44, y_pred44))"
   ]
  },
  {
   "cell_type": "markdown",
   "metadata": {},
   "source": [
    "### Athletic Club Bilbao"
   ]
  },
  {
   "cell_type": "code",
   "execution_count": 148,
   "metadata": {},
   "outputs": [
    {
     "data": {
      "text/plain": [
       "1.0"
      ]
     },
     "execution_count": 148,
     "metadata": {},
     "output_type": "execute_result"
    }
   ],
   "source": [
    "from sklearn.metrics import balanced_accuracy_score\n",
    "y_pred45 = rf.predict(X_test45)\n",
    "balanced_accuracy_score(y_test45, y_pred45)"
   ]
  },
  {
   "cell_type": "code",
   "execution_count": 149,
   "metadata": {},
   "outputs": [
    {
     "data": {
      "text/plain": [
       "array([[1]], dtype=int64)"
      ]
     },
     "execution_count": 149,
     "metadata": {},
     "output_type": "execute_result"
    }
   ],
   "source": [
    "# Display the confusion matrix\n",
    "from sklearn.metrics import confusion_matrix\n",
    "confusion_matrix(y_test45, y_pred45)"
   ]
  },
  {
   "cell_type": "code",
   "execution_count": 150,
   "metadata": {},
   "outputs": [
    {
     "name": "stdout",
     "output_type": "stream",
     "text": [
      "                   pre       rec       spe        f1       geo       iba       sup\n",
      "\n",
      "        Not       1.00      1.00      0.00      1.00      0.00      0.00         1\n",
      "\n",
      "avg / total       1.00      1.00      0.00      1.00      0.00      0.00         1\n",
      "\n"
     ]
    }
   ],
   "source": [
    "# Print the imbalanced classification report\n",
    "print(classification_report_imbalanced(y_test45, y_pred45))"
   ]
  }
 ],
 "metadata": {
  "kernelspec": {
   "display_name": "mlenv",
   "language": "python",
   "name": "mlenv"
  },
  "language_info": {
   "codemirror_mode": {
    "name": "ipython",
    "version": 3
   },
   "file_extension": ".py",
   "mimetype": "text/x-python",
   "name": "python",
   "nbconvert_exporter": "python",
   "pygments_lexer": "ipython3",
   "version": "3.7.7"
  }
 },
 "nbformat": 4,
 "nbformat_minor": 4
}
